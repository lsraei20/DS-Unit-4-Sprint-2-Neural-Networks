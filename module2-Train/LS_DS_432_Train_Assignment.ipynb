{
  "nbformat": 4,
  "nbformat_minor": 0,
  "metadata": {
    "colab": {
      "name": "Copia de LS_DS_432_Train_Assignment.ipynb",
      "provenance": [],
      "collapsed_sections": [
        "ptJ2b3wk62Ud"
      ],
      "include_colab_link": true
    },
    "kernelspec": {
      "display_name": "Python 3",
      "language": "python",
      "name": "python3"
    },
    "language_info": {
      "codemirror_mode": {
        "name": "ipython",
        "version": 3
      },
      "file_extension": ".py",
      "mimetype": "text/x-python",
      "name": "python",
      "nbconvert_exporter": "python",
      "pygments_lexer": "ipython3",
      "version": "3.7.3"
    },
    "nteract": {
      "version": "0.22.4"
    },
    "accelerator": "GPU"
  },
  "cells": [
    {
      "cell_type": "markdown",
      "metadata": {
        "id": "view-in-github",
        "colab_type": "text"
      },
      "source": [
        "<a href=\"https://colab.research.google.com/github/lsraei20/DS-Unit-4-Sprint-2-Neural-Networks/blob/main/module2-Train/LS_DS_432_Train_Assignment.ipynb\" target=\"_parent\"><img src=\"https://colab.research.google.com/assets/colab-badge.svg\" alt=\"Open In Colab\"/></a>"
      ]
    },
    {
      "cell_type": "markdown",
      "metadata": {
        "colab_type": "text",
        "id": "NGGrt9EYlCqY"
      },
      "source": [
        "<img align=\"left\" src=\"https://lever-client-logos.s3.amazonaws.com/864372b1-534c-480e-acd5-9711f850815c-1524247202159.png\" width=200>\n",
        "<br></br>\n",
        "<br></br>\n",
        "\n",
        "# Train Practice\n",
        "\n",
        "## *Data Science Unit 4 Sprint 2 Assignment 2*\n",
        "\n",
        "Continue to use TensorFlow Keras & a sample of the [Quickdraw dataset](https://github.com/googlecreativelab/quickdraw-dataset) to build a sketch classification model. The dataset has been sampled to only 10 classes and 10000 observations per class. Please build a baseline classification model then run a few experiments with different optimizers and learning rates. \n",
        "\n",
        "*Don't forgot to switch to GPU on Colab!*"
      ]
    },
    {
      "cell_type": "markdown",
      "metadata": {
        "id": "ptJ2b3wk62Ud",
        "colab_type": "text"
      },
      "source": [
        "### Write a function to load your data\n",
        "\n",
        "Wrap yesterday's preprocessing steps into a function that returns four items:\n",
        "* X_train\n",
        "* y_train\n",
        "* X_test\n",
        "* y_test\n",
        "\n",
        "Your function should accept a `path` to the data as a argument."
      ]
    },
    {
      "cell_type": "code",
      "metadata": {
        "id": "c0g5FkXgbJtZ",
        "colab_type": "code",
        "colab": {}
      },
      "source": [
        "import pandas as pd\n",
        "import numpy as np\n",
        "from sklearn.model_selection import train_test_split"
      ],
      "execution_count": null,
      "outputs": []
    },
    {
      "cell_type": "code",
      "metadata": {
        "id": "nJsIsrvp7O3e",
        "colab_type": "code",
        "colab": {}
      },
      "source": [
        "def load_quickdraw10(path):\n",
        "  data = np.load(path)\n",
        "  X = data['arr_0']\n",
        "  y = data['arr_1']\n",
        "  X_train, X_test, y_train, y_test = train_test_split(X, y, test_size=0.2, random_state=42)\n",
        "  return X_train, y_train, X_test, y_test"
      ],
      "execution_count": null,
      "outputs": []
    },
    {
      "cell_type": "code",
      "metadata": {
        "id": "kZiWtiu1b9rg",
        "colab_type": "code",
        "colab": {}
      },
      "source": [
        "X_train, y_train, X_test, y_test = load_quickdraw10('/content/quickdraw10.npz')"
      ],
      "execution_count": null,
      "outputs": []
    },
    {
      "cell_type": "markdown",
      "metadata": {
        "id": "l-6PxI6H5__2",
        "colab_type": "text"
      },
      "source": [
        "### Write a Model Function\n",
        "Using your model from yesterday, write a function called `create_model` which returns a compiled TensorFlow Keras Sequential Model suitable for classifying the QuickDraw-10 dataset. Include parameters for the following: \n",
        "* Learning Rate\n",
        "* Optimizer"
      ]
    },
    {
      "cell_type": "code",
      "metadata": {
        "colab_type": "code",
        "id": "nEREYT-3wI1f",
        "colab": {}
      },
      "source": [
        "##### Your Code Here #####\n",
        "from tensorflow.keras import Sequential\n",
        "from tensorflow.keras.layers import Dense\n",
        "from tensorflow.keras.optimizers import SGD\n",
        "\n",
        "def create_model(lr=0.1, opt=SGD):\n",
        "  opt = opt(learning_rate=lr)\n",
        "  model = Sequential(\n",
        "      [\n",
        "       Dense(30, activation='relu', input_dim=784),\n",
        "       Dense(30, activation='relu'),\n",
        "       Dense(10, activation='softmax')\n",
        "      ]\n",
        "  )\n",
        "  model.compile(optimizer=opt , loss='sparse_categorical_crossentropy', metrics=['accuracy'])\n",
        "  return model"
      ],
      "execution_count": null,
      "outputs": []
    },
    {
      "cell_type": "markdown",
      "metadata": {
        "id": "f0pCkh8C7eGL",
        "colab_type": "text"
      },
      "source": [
        "### Experiment with Batch Size\n",
        "* Run 5 experiments with various batch sizes of your choice. \n",
        "* Visualize the results\n",
        "* Write up an analysis of the experiments and select the \"best\" performing model among your experiments. Make sure to compare against your model's performance yesterday. "
      ]
    },
    {
      "cell_type": "code",
      "metadata": {
        "id": "USXjs7Hk71Hy",
        "colab_type": "code",
        "colab": {
          "base_uri": "https://localhost:8080/",
          "height": 867
        },
        "outputId": "5b1dfa03-349d-4c8a-d48f-a3e08f2a7d07"
      },
      "source": [
        "model_15 = create_model()\n",
        "bt_default = model_5.fit(X_train, y_train, \n",
        "                                epochs=25, \n",
        "                                batch_size=15, \n",
        "                                validation_data=(X_test, y_test))"
      ],
      "execution_count": null,
      "outputs": [
        {
          "output_type": "stream",
          "text": [
            "Epoch 1/25\n",
            "5334/5334 [==============================] - 18s 3ms/step - loss: 2.3042 - accuracy: 0.0997 - val_loss: 2.3050 - val_accuracy: 0.1002\n",
            "Epoch 2/25\n",
            "5334/5334 [==============================] - 17s 3ms/step - loss: 2.3042 - accuracy: 0.0994 - val_loss: 2.3043 - val_accuracy: 0.0996\n",
            "Epoch 3/25\n",
            "5334/5334 [==============================] - 17s 3ms/step - loss: 2.3043 - accuracy: 0.0997 - val_loss: 2.3045 - val_accuracy: 0.1002\n",
            "Epoch 4/25\n",
            "5334/5334 [==============================] - 17s 3ms/step - loss: 2.3042 - accuracy: 0.0991 - val_loss: 2.3046 - val_accuracy: 0.0993\n",
            "Epoch 5/25\n",
            "5334/5334 [==============================] - 17s 3ms/step - loss: 2.3042 - accuracy: 0.0983 - val_loss: 2.3030 - val_accuracy: 0.1019\n",
            "Epoch 6/25\n",
            "5334/5334 [==============================] - 17s 3ms/step - loss: 2.3042 - accuracy: 0.0999 - val_loss: 2.3042 - val_accuracy: 0.1002\n",
            "Epoch 7/25\n",
            "5334/5334 [==============================] - 17s 3ms/step - loss: 2.3041 - accuracy: 0.0997 - val_loss: 2.3040 - val_accuracy: 0.1001\n",
            "Epoch 8/25\n",
            "5334/5334 [==============================] - 17s 3ms/step - loss: 2.3040 - accuracy: 0.1006 - val_loss: 2.3040 - val_accuracy: 0.1019\n",
            "Epoch 9/25\n",
            "5334/5334 [==============================] - 16s 3ms/step - loss: 2.3042 - accuracy: 0.0980 - val_loss: 2.3030 - val_accuracy: 0.1002\n",
            "Epoch 10/25\n",
            "5334/5334 [==============================] - 16s 3ms/step - loss: 2.3042 - accuracy: 0.0996 - val_loss: 2.3035 - val_accuracy: 0.0988\n",
            "Epoch 11/25\n",
            "5334/5334 [==============================] - 16s 3ms/step - loss: 2.3043 - accuracy: 0.0970 - val_loss: 2.3035 - val_accuracy: 0.1019\n",
            "Epoch 12/25\n",
            "5334/5334 [==============================] - 17s 3ms/step - loss: 2.3041 - accuracy: 0.1006 - val_loss: 2.3049 - val_accuracy: 0.0993\n",
            "Epoch 13/25\n",
            "5334/5334 [==============================] - 17s 3ms/step - loss: 2.3041 - accuracy: 0.0987 - val_loss: 2.3035 - val_accuracy: 0.0993\n",
            "Epoch 14/25\n",
            "5334/5334 [==============================] - 17s 3ms/step - loss: 2.3039 - accuracy: 0.1019 - val_loss: 2.3036 - val_accuracy: 0.0993\n",
            "Epoch 15/25\n",
            "5334/5334 [==============================] - 17s 3ms/step - loss: 2.3040 - accuracy: 0.0996 - val_loss: 2.3058 - val_accuracy: 0.0993\n",
            "Epoch 16/25\n",
            "5334/5334 [==============================] - 16s 3ms/step - loss: 2.3042 - accuracy: 0.0992 - val_loss: 2.3041 - val_accuracy: 0.0993\n",
            "Epoch 17/25\n",
            "5334/5334 [==============================] - 17s 3ms/step - loss: 2.3042 - accuracy: 0.1000 - val_loss: 2.3039 - val_accuracy: 0.1002\n",
            "Epoch 18/25\n",
            "5334/5334 [==============================] - 16s 3ms/step - loss: 2.3041 - accuracy: 0.0986 - val_loss: 2.3062 - val_accuracy: 0.0993\n",
            "Epoch 19/25\n",
            "5334/5334 [==============================] - 18s 3ms/step - loss: 2.3042 - accuracy: 0.0991 - val_loss: 2.3040 - val_accuracy: 0.0993\n",
            "Epoch 20/25\n",
            "5334/5334 [==============================] - 16s 3ms/step - loss: 2.3042 - accuracy: 0.0998 - val_loss: 2.3062 - val_accuracy: 0.1000\n",
            "Epoch 21/25\n",
            "5334/5334 [==============================] - 17s 3ms/step - loss: 2.3041 - accuracy: 0.0988 - val_loss: 2.3037 - val_accuracy: 0.0993\n",
            "Epoch 22/25\n",
            "5334/5334 [==============================] - 17s 3ms/step - loss: 2.3042 - accuracy: 0.0987 - val_loss: 2.3031 - val_accuracy: 0.1001\n",
            "Epoch 23/25\n",
            "5334/5334 [==============================] - 17s 3ms/step - loss: 2.3040 - accuracy: 0.1017 - val_loss: 2.3041 - val_accuracy: 0.0993\n",
            "Epoch 24/25\n",
            "5334/5334 [==============================] - 16s 3ms/step - loss: 2.3042 - accuracy: 0.0988 - val_loss: 2.3041 - val_accuracy: 0.0988\n",
            "Epoch 25/25\n",
            "5334/5334 [==============================] - 16s 3ms/step - loss: 2.3040 - accuracy: 0.1002 - val_loss: 2.3035 - val_accuracy: 0.1002\n"
          ],
          "name": "stdout"
        }
      ]
    },
    {
      "cell_type": "code",
      "metadata": {
        "id": "zz_Beo2TfNVq",
        "colab_type": "code",
        "colab": {
          "base_uri": "https://localhost:8080/",
          "height": 867
        },
        "outputId": "fd9443fe-cfa9-4d32-9b86-fd006a1006ac"
      },
      "source": [
        "model_20 = create_model()\n",
        "bt_default = model_20.fit(X_train, y_train, \n",
        "                                epochs=25, \n",
        "                                batch_size=20, \n",
        "                                validation_data=(X_test, y_test))"
      ],
      "execution_count": null,
      "outputs": [
        {
          "output_type": "stream",
          "text": [
            "Epoch 1/25\n",
            "4000/4000 [==============================] - 8s 2ms/step - loss: 449186818189950976.0000 - accuracy: 0.0998 - val_loss: 2.3048 - val_accuracy: 0.0988\n",
            "Epoch 2/25\n",
            "4000/4000 [==============================] - 8s 2ms/step - loss: 2.3037 - accuracy: 0.1009 - val_loss: 2.3034 - val_accuracy: 0.1000\n",
            "Epoch 3/25\n",
            "4000/4000 [==============================] - 8s 2ms/step - loss: 2.3037 - accuracy: 0.0992 - val_loss: 2.3040 - val_accuracy: 0.1000\n",
            "Epoch 4/25\n",
            "4000/4000 [==============================] - 8s 2ms/step - loss: 2.3037 - accuracy: 0.1006 - val_loss: 2.3038 - val_accuracy: 0.0993\n",
            "Epoch 5/25\n",
            "4000/4000 [==============================] - 8s 2ms/step - loss: 2.3038 - accuracy: 0.0997 - val_loss: 2.3037 - val_accuracy: 0.1019\n",
            "Epoch 6/25\n",
            "4000/4000 [==============================] - 8s 2ms/step - loss: 2.3039 - accuracy: 0.0985 - val_loss: 2.3035 - val_accuracy: 0.1006\n",
            "Epoch 7/25\n",
            "4000/4000 [==============================] - 8s 2ms/step - loss: 2.3039 - accuracy: 0.0994 - val_loss: 2.3034 - val_accuracy: 0.1002\n",
            "Epoch 8/25\n",
            "4000/4000 [==============================] - 8s 2ms/step - loss: 2.3039 - accuracy: 0.0984 - val_loss: 2.3035 - val_accuracy: 0.0993\n",
            "Epoch 9/25\n",
            "4000/4000 [==============================] - 8s 2ms/step - loss: 2.3038 - accuracy: 0.0989 - val_loss: 2.3032 - val_accuracy: 0.1000\n",
            "Epoch 10/25\n",
            "4000/4000 [==============================] - 8s 2ms/step - loss: 2.3039 - accuracy: 0.0983 - val_loss: 2.3039 - val_accuracy: 0.1001\n",
            "Epoch 11/25\n",
            "4000/4000 [==============================] - 8s 2ms/step - loss: 2.3038 - accuracy: 0.1002 - val_loss: 2.3035 - val_accuracy: 0.1000\n",
            "Epoch 12/25\n",
            "4000/4000 [==============================] - 8s 2ms/step - loss: 2.3038 - accuracy: 0.0985 - val_loss: 2.3038 - val_accuracy: 0.1000\n",
            "Epoch 13/25\n",
            "4000/4000 [==============================] - 8s 2ms/step - loss: 2.3039 - accuracy: 0.0987 - val_loss: 2.3037 - val_accuracy: 0.1006\n",
            "Epoch 14/25\n",
            "4000/4000 [==============================] - 8s 2ms/step - loss: 2.3036 - accuracy: 0.1002 - val_loss: 2.3038 - val_accuracy: 0.1019\n",
            "Epoch 15/25\n",
            "4000/4000 [==============================] - 8s 2ms/step - loss: 2.3037 - accuracy: 0.0982 - val_loss: 2.3044 - val_accuracy: 0.0996\n",
            "Epoch 16/25\n",
            "4000/4000 [==============================] - 8s 2ms/step - loss: 2.3039 - accuracy: 0.0996 - val_loss: 2.3034 - val_accuracy: 0.0993\n",
            "Epoch 17/25\n",
            "4000/4000 [==============================] - 8s 2ms/step - loss: 2.3038 - accuracy: 0.0998 - val_loss: 2.3033 - val_accuracy: 0.0988\n",
            "Epoch 18/25\n",
            "4000/4000 [==============================] - 8s 2ms/step - loss: 2.3038 - accuracy: 0.0989 - val_loss: 2.3048 - val_accuracy: 0.0996\n",
            "Epoch 19/25\n",
            "4000/4000 [==============================] - 8s 2ms/step - loss: 2.3038 - accuracy: 0.0983 - val_loss: 2.3034 - val_accuracy: 0.0993\n",
            "Epoch 20/25\n",
            "4000/4000 [==============================] - 8s 2ms/step - loss: 2.3036 - accuracy: 0.1034 - val_loss: 2.3034 - val_accuracy: 0.0988\n",
            "Epoch 21/25\n",
            "4000/4000 [==============================] - 8s 2ms/step - loss: 2.3036 - accuracy: 0.1021 - val_loss: 2.3040 - val_accuracy: 0.1002\n",
            "Epoch 22/25\n",
            "4000/4000 [==============================] - 8s 2ms/step - loss: 2.3038 - accuracy: 0.0992 - val_loss: 2.3032 - val_accuracy: 0.0993\n",
            "Epoch 23/25\n",
            "4000/4000 [==============================] - 8s 2ms/step - loss: 2.3038 - accuracy: 0.0995 - val_loss: 2.3030 - val_accuracy: 0.1001\n",
            "Epoch 24/25\n",
            "4000/4000 [==============================] - 8s 2ms/step - loss: 2.3038 - accuracy: 0.0989 - val_loss: 2.3033 - val_accuracy: 0.0996\n",
            "Epoch 25/25\n",
            "4000/4000 [==============================] - 8s 2ms/step - loss: 2.3038 - accuracy: 0.0990 - val_loss: 2.3032 - val_accuracy: 0.1000\n"
          ],
          "name": "stdout"
        }
      ]
    },
    {
      "cell_type": "code",
      "metadata": {
        "id": "ioRMgn6iffnL",
        "colab_type": "code",
        "colab": {
          "base_uri": "https://localhost:8080/",
          "height": 867
        },
        "outputId": "93a812e1-88e5-4984-8ef6-4022b084871d"
      },
      "source": [
        "model_32 = create_model()\n",
        "bt_default = model_32.fit(X_train, y_train, \n",
        "                                epochs=25, \n",
        "                                batch_size=32, \n",
        "                                validation_data=(X_test, y_test))"
      ],
      "execution_count": null,
      "outputs": [
        {
          "output_type": "stream",
          "text": [
            "Epoch 1/25\n",
            "2500/2500 [==============================] - 5s 2ms/step - loss: 7791968.5000 - accuracy: 0.0971 - val_loss: 2.3033 - val_accuracy: 0.0996\n",
            "Epoch 2/25\n",
            "2500/2500 [==============================] - 5s 2ms/step - loss: 2.4184 - accuracy: 0.1019 - val_loss: 2.3029 - val_accuracy: 0.1006\n",
            "Epoch 3/25\n",
            "2500/2500 [==============================] - 5s 2ms/step - loss: 2.3032 - accuracy: 0.1003 - val_loss: 2.3037 - val_accuracy: 0.1001\n",
            "Epoch 4/25\n",
            "2500/2500 [==============================] - 5s 2ms/step - loss: 2.3033 - accuracy: 0.0991 - val_loss: 2.3033 - val_accuracy: 0.1001\n",
            "Epoch 5/25\n",
            "2500/2500 [==============================] - 5s 2ms/step - loss: 2.3033 - accuracy: 0.0989 - val_loss: 2.3032 - val_accuracy: 0.1006\n",
            "Epoch 6/25\n",
            "2500/2500 [==============================] - 5s 2ms/step - loss: 2.3033 - accuracy: 0.0986 - val_loss: 2.3031 - val_accuracy: 0.0993\n",
            "Epoch 7/25\n",
            "2500/2500 [==============================] - 5s 2ms/step - loss: 2.3033 - accuracy: 0.0999 - val_loss: 2.3036 - val_accuracy: 0.1001\n",
            "Epoch 8/25\n",
            "2500/2500 [==============================] - 5s 2ms/step - loss: 2.3033 - accuracy: 0.0994 - val_loss: 2.3036 - val_accuracy: 0.0993\n",
            "Epoch 9/25\n",
            "2500/2500 [==============================] - 5s 2ms/step - loss: 2.3034 - accuracy: 0.0992 - val_loss: 2.3034 - val_accuracy: 0.1002\n",
            "Epoch 10/25\n",
            "2500/2500 [==============================] - 5s 2ms/step - loss: 2.3033 - accuracy: 0.1004 - val_loss: 2.3032 - val_accuracy: 0.0993\n",
            "Epoch 11/25\n",
            "2500/2500 [==============================] - 5s 2ms/step - loss: 2.3033 - accuracy: 0.0994 - val_loss: 2.3033 - val_accuracy: 0.0988\n",
            "Epoch 12/25\n",
            "2500/2500 [==============================] - 5s 2ms/step - loss: 2.3034 - accuracy: 0.1002 - val_loss: 2.3030 - val_accuracy: 0.1002\n",
            "Epoch 13/25\n",
            "2500/2500 [==============================] - 5s 2ms/step - loss: 2.3034 - accuracy: 0.0978 - val_loss: 2.3031 - val_accuracy: 0.0993\n",
            "Epoch 14/25\n",
            "2500/2500 [==============================] - 5s 2ms/step - loss: 2.3034 - accuracy: 0.0982 - val_loss: 2.3034 - val_accuracy: 0.0993\n",
            "Epoch 15/25\n",
            "2500/2500 [==============================] - 5s 2ms/step - loss: 2.3034 - accuracy: 0.0986 - val_loss: 2.3035 - val_accuracy: 0.0988\n",
            "Epoch 16/25\n",
            "2500/2500 [==============================] - 5s 2ms/step - loss: 2.3033 - accuracy: 0.0998 - val_loss: 2.3027 - val_accuracy: 0.1001\n",
            "Epoch 17/25\n",
            "2500/2500 [==============================] - 5s 2ms/step - loss: 2.3033 - accuracy: 0.1000 - val_loss: 2.3033 - val_accuracy: 0.1000\n",
            "Epoch 18/25\n",
            "2500/2500 [==============================] - 5s 2ms/step - loss: 2.3034 - accuracy: 0.0999 - val_loss: 2.3029 - val_accuracy: 0.0988\n",
            "Epoch 19/25\n",
            "2500/2500 [==============================] - 5s 2ms/step - loss: 2.3034 - accuracy: 0.0993 - val_loss: 2.3029 - val_accuracy: 0.1002\n",
            "Epoch 20/25\n",
            "2500/2500 [==============================] - 5s 2ms/step - loss: 2.3034 - accuracy: 0.0987 - val_loss: 2.3033 - val_accuracy: 0.0996\n",
            "Epoch 21/25\n",
            "2500/2500 [==============================] - 5s 2ms/step - loss: 2.3034 - accuracy: 0.1006 - val_loss: 2.3033 - val_accuracy: 0.1000\n",
            "Epoch 22/25\n",
            "2500/2500 [==============================] - 5s 2ms/step - loss: 2.3034 - accuracy: 0.0988 - val_loss: 2.3032 - val_accuracy: 0.1001\n",
            "Epoch 23/25\n",
            "2500/2500 [==============================] - 5s 2ms/step - loss: 2.3033 - accuracy: 0.1021 - val_loss: 2.3033 - val_accuracy: 0.0996\n",
            "Epoch 24/25\n",
            "2500/2500 [==============================] - 5s 2ms/step - loss: 2.3034 - accuracy: 0.1005 - val_loss: 2.3030 - val_accuracy: 0.0988\n",
            "Epoch 25/25\n",
            "2500/2500 [==============================] - 5s 2ms/step - loss: 2.3034 - accuracy: 0.0978 - val_loss: 2.3035 - val_accuracy: 0.0988\n"
          ],
          "name": "stdout"
        }
      ]
    },
    {
      "cell_type": "code",
      "metadata": {
        "id": "D39aG-hBfjYy",
        "colab_type": "code",
        "colab": {
          "base_uri": "https://localhost:8080/",
          "height": 867
        },
        "outputId": "22cf6f82-3664-4c1d-b3ae-4261ff193837"
      },
      "source": [
        "model_50 = create_model()\n",
        "bt_default = model_50.fit(X_train, y_train, \n",
        "                                epochs=25, \n",
        "                                batch_size=50, \n",
        "                                validation_data=(X_test, y_test))"
      ],
      "execution_count": null,
      "outputs": [
        {
          "output_type": "stream",
          "text": [
            "Epoch 1/25\n",
            "1600/1600 [==============================] - 3s 2ms/step - loss: 267.2474 - accuracy: 0.1000 - val_loss: 2.3031 - val_accuracy: 0.1002\n",
            "Epoch 2/25\n",
            "1600/1600 [==============================] - 3s 2ms/step - loss: 2.3031 - accuracy: 0.0978 - val_loss: 2.3031 - val_accuracy: 0.1019\n",
            "Epoch 3/25\n",
            "1600/1600 [==============================] - 3s 2ms/step - loss: 2.3031 - accuracy: 0.1003 - val_loss: 2.3033 - val_accuracy: 0.0988\n",
            "Epoch 4/25\n",
            "1600/1600 [==============================] - 3s 2ms/step - loss: 2.3031 - accuracy: 0.1009 - val_loss: 2.3027 - val_accuracy: 0.1002\n",
            "Epoch 5/25\n",
            "1600/1600 [==============================] - 3s 2ms/step - loss: 2.3031 - accuracy: 0.0985 - val_loss: 2.3030 - val_accuracy: 0.1002\n",
            "Epoch 6/25\n",
            "1600/1600 [==============================] - 3s 2ms/step - loss: 2.3031 - accuracy: 0.0996 - val_loss: 2.3031 - val_accuracy: 0.0993\n",
            "Epoch 7/25\n",
            "1600/1600 [==============================] - 3s 2ms/step - loss: 2.3030 - accuracy: 0.1003 - val_loss: 2.3030 - val_accuracy: 0.1002\n",
            "Epoch 8/25\n",
            "1600/1600 [==============================] - 3s 2ms/step - loss: 2.3032 - accuracy: 0.1003 - val_loss: 2.3029 - val_accuracy: 0.1002\n",
            "Epoch 9/25\n",
            "1600/1600 [==============================] - 3s 2ms/step - loss: 2.3031 - accuracy: 0.1000 - val_loss: 2.3031 - val_accuracy: 0.1006\n",
            "Epoch 10/25\n",
            "1600/1600 [==============================] - 3s 2ms/step - loss: 2.3030 - accuracy: 0.1002 - val_loss: 2.3027 - val_accuracy: 0.1019\n",
            "Epoch 11/25\n",
            "1600/1600 [==============================] - 3s 2ms/step - loss: 2.3031 - accuracy: 0.0996 - val_loss: 2.3028 - val_accuracy: 0.1000\n",
            "Epoch 12/25\n",
            "1600/1600 [==============================] - 3s 2ms/step - loss: 2.3031 - accuracy: 0.0988 - val_loss: 2.3028 - val_accuracy: 0.1002\n",
            "Epoch 13/25\n",
            "1600/1600 [==============================] - 3s 2ms/step - loss: 2.3030 - accuracy: 0.1009 - val_loss: 2.3030 - val_accuracy: 0.1002\n",
            "Epoch 14/25\n",
            "1600/1600 [==============================] - 3s 2ms/step - loss: 2.3031 - accuracy: 0.0987 - val_loss: 2.3029 - val_accuracy: 0.1002\n",
            "Epoch 15/25\n",
            "1600/1600 [==============================] - 4s 2ms/step - loss: 2.3031 - accuracy: 0.0983 - val_loss: 2.3030 - val_accuracy: 0.1000\n",
            "Epoch 16/25\n",
            "1600/1600 [==============================] - 3s 2ms/step - loss: 2.3031 - accuracy: 0.1003 - val_loss: 2.3028 - val_accuracy: 0.1002\n",
            "Epoch 17/25\n",
            "1600/1600 [==============================] - 3s 2ms/step - loss: 2.3031 - accuracy: 0.0997 - val_loss: 2.3029 - val_accuracy: 0.0993\n",
            "Epoch 18/25\n",
            "1600/1600 [==============================] - 3s 2ms/step - loss: 2.3031 - accuracy: 0.0984 - val_loss: 2.3028 - val_accuracy: 0.0993\n",
            "Epoch 19/25\n",
            "1600/1600 [==============================] - 3s 2ms/step - loss: 2.3031 - accuracy: 0.1016 - val_loss: 2.3028 - val_accuracy: 0.0996\n",
            "Epoch 20/25\n",
            "1600/1600 [==============================] - 3s 2ms/step - loss: 2.3030 - accuracy: 0.0992 - val_loss: 2.3038 - val_accuracy: 0.0988\n",
            "Epoch 21/25\n",
            "1600/1600 [==============================] - 4s 2ms/step - loss: 2.3030 - accuracy: 0.1015 - val_loss: 2.3036 - val_accuracy: 0.0993\n",
            "Epoch 22/25\n",
            "1600/1600 [==============================] - 3s 2ms/step - loss: 2.3032 - accuracy: 0.0977 - val_loss: 2.3029 - val_accuracy: 0.0993\n",
            "Epoch 23/25\n",
            "1600/1600 [==============================] - 4s 2ms/step - loss: 2.3031 - accuracy: 0.0983 - val_loss: 2.3028 - val_accuracy: 0.1000\n",
            "Epoch 24/25\n",
            "1600/1600 [==============================] - 3s 2ms/step - loss: 2.3030 - accuracy: 0.1001 - val_loss: 2.3030 - val_accuracy: 0.0988\n",
            "Epoch 25/25\n",
            "1600/1600 [==============================] - 3s 2ms/step - loss: 2.3031 - accuracy: 0.0983 - val_loss: 2.3029 - val_accuracy: 0.1019\n"
          ],
          "name": "stdout"
        }
      ]
    },
    {
      "cell_type": "code",
      "metadata": {
        "id": "A4iW0qmAfms8",
        "colab_type": "code",
        "colab": {
          "base_uri": "https://localhost:8080/",
          "height": 867
        },
        "outputId": "fc2f5fe4-ae8d-45c3-b9d2-24bafb27f218"
      },
      "source": [
        "model_800 = create_model()\n",
        "bt_default = model_800.fit(X_train, y_train, \n",
        "                                epochs=25, \n",
        "                                batch_size=800, \n",
        "                                validation_data=(X_test, y_test))"
      ],
      "execution_count": null,
      "outputs": [
        {
          "output_type": "stream",
          "text": [
            "Epoch 1/25\n",
            "100/100 [==============================] - 0s 4ms/step - loss: 47325.8750 - accuracy: 0.0977 - val_loss: 2.3028 - val_accuracy: 0.1019\n",
            "Epoch 2/25\n",
            "100/100 [==============================] - 0s 3ms/step - loss: 2.3027 - accuracy: 0.0987 - val_loss: 2.3027 - val_accuracy: 0.0996\n",
            "Epoch 3/25\n",
            "100/100 [==============================] - 0s 3ms/step - loss: 2.3026 - accuracy: 0.0991 - val_loss: 2.3027 - val_accuracy: 0.0988\n",
            "Epoch 4/25\n",
            "100/100 [==============================] - 0s 2ms/step - loss: 2.3026 - accuracy: 0.0992 - val_loss: 2.3027 - val_accuracy: 0.1002\n",
            "Epoch 5/25\n",
            "100/100 [==============================] - 0s 3ms/step - loss: 2.3026 - accuracy: 0.0981 - val_loss: 2.3027 - val_accuracy: 0.0988\n",
            "Epoch 6/25\n",
            "100/100 [==============================] - 0s 3ms/step - loss: 2.3026 - accuracy: 0.0975 - val_loss: 2.3027 - val_accuracy: 0.1001\n",
            "Epoch 7/25\n",
            "100/100 [==============================] - 0s 2ms/step - loss: 2.3026 - accuracy: 0.0993 - val_loss: 2.3027 - val_accuracy: 0.0988\n",
            "Epoch 8/25\n",
            "100/100 [==============================] - 0s 3ms/step - loss: 2.3026 - accuracy: 0.0984 - val_loss: 2.3027 - val_accuracy: 0.0988\n",
            "Epoch 9/25\n",
            "100/100 [==============================] - 0s 3ms/step - loss: 2.3026 - accuracy: 0.0984 - val_loss: 2.3027 - val_accuracy: 0.1000\n",
            "Epoch 10/25\n",
            "100/100 [==============================] - 0s 3ms/step - loss: 2.3026 - accuracy: 0.0982 - val_loss: 2.3027 - val_accuracy: 0.1001\n",
            "Epoch 11/25\n",
            "100/100 [==============================] - 0s 3ms/step - loss: 2.3026 - accuracy: 0.0964 - val_loss: 2.3027 - val_accuracy: 0.0988\n",
            "Epoch 12/25\n",
            "100/100 [==============================] - 0s 3ms/step - loss: 2.3026 - accuracy: 0.0977 - val_loss: 2.3027 - val_accuracy: 0.0988\n",
            "Epoch 13/25\n",
            "100/100 [==============================] - 0s 3ms/step - loss: 2.3026 - accuracy: 0.0981 - val_loss: 2.3027 - val_accuracy: 0.0988\n",
            "Epoch 14/25\n",
            "100/100 [==============================] - 0s 3ms/step - loss: 2.3026 - accuracy: 0.0980 - val_loss: 2.3027 - val_accuracy: 0.0988\n",
            "Epoch 15/25\n",
            "100/100 [==============================] - 0s 3ms/step - loss: 2.3026 - accuracy: 0.0990 - val_loss: 2.3027 - val_accuracy: 0.0988\n",
            "Epoch 16/25\n",
            "100/100 [==============================] - 0s 3ms/step - loss: 2.3026 - accuracy: 0.0992 - val_loss: 2.3027 - val_accuracy: 0.0988\n",
            "Epoch 17/25\n",
            "100/100 [==============================] - 0s 3ms/step - loss: 2.3026 - accuracy: 0.0979 - val_loss: 2.3027 - val_accuracy: 0.0988\n",
            "Epoch 18/25\n",
            "100/100 [==============================] - 0s 3ms/step - loss: 2.3026 - accuracy: 0.0973 - val_loss: 2.3027 - val_accuracy: 0.0993\n",
            "Epoch 19/25\n",
            "100/100 [==============================] - 0s 3ms/step - loss: 2.3026 - accuracy: 0.0987 - val_loss: 2.3027 - val_accuracy: 0.0988\n",
            "Epoch 20/25\n",
            "100/100 [==============================] - 0s 3ms/step - loss: 2.3026 - accuracy: 0.0989 - val_loss: 2.3027 - val_accuracy: 0.0996\n",
            "Epoch 21/25\n",
            "100/100 [==============================] - 0s 3ms/step - loss: 2.3026 - accuracy: 0.0979 - val_loss: 2.3027 - val_accuracy: 0.0988\n",
            "Epoch 22/25\n",
            "100/100 [==============================] - 0s 2ms/step - loss: 2.3026 - accuracy: 0.0969 - val_loss: 2.3027 - val_accuracy: 0.0993\n",
            "Epoch 23/25\n",
            "100/100 [==============================] - 0s 3ms/step - loss: 2.3026 - accuracy: 0.0989 - val_loss: 2.3027 - val_accuracy: 0.0993\n",
            "Epoch 24/25\n",
            "100/100 [==============================] - 0s 3ms/step - loss: 2.3026 - accuracy: 0.0981 - val_loss: 2.3027 - val_accuracy: 0.0993\n",
            "Epoch 25/25\n",
            "100/100 [==============================] - 0s 3ms/step - loss: 2.3026 - accuracy: 0.0969 - val_loss: 2.3027 - val_accuracy: 0.0993\n"
          ],
          "name": "stdout"
        }
      ]
    },
    {
      "cell_type": "markdown",
      "metadata": {
        "colab_type": "text",
        "id": "8b-r70o8p2Dm"
      },
      "source": [
        "### Experiment with Learning Rate\n",
        "* Run 5 experiments with various learning rate magnitudes: 1, .1, .01, .001, .0001.\n",
        "* Use the \"best\" batch size from the previous experiment\n",
        "* Visualize the results\n",
        "* Write up an analysis of the experiments and select the \"best\" performing model among your experiments. Make sure to compare against the previous experiments and your model's performance yesterday. "
      ]
    },
    {
      "cell_type": "code",
      "metadata": {
        "id": "_SA144xx8Luf",
        "colab_type": "code",
        "colab": {
          "base_uri": "https://localhost:8080/",
          "height": 867
        },
        "outputId": "fb01e177-f9a8-4ad7-9006-e8be667ed5d2"
      },
      "source": [
        "model_50 = create_model(lr=1)\n",
        "bt_default = model_50.fit(X_train, y_train, \n",
        "                                epochs=25, \n",
        "                                batch_size=50, \n",
        "                                validation_data=(X_test, y_test))"
      ],
      "execution_count": null,
      "outputs": [
        {
          "output_type": "stream",
          "text": [
            "Epoch 1/25\n",
            "1600/1600 [==============================] - 3s 2ms/step - loss: 969245.0000 - accuracy: 0.1002 - val_loss: 2.3121 - val_accuracy: 0.1006\n",
            "Epoch 2/25\n",
            "1600/1600 [==============================] - 3s 2ms/step - loss: 2.3075 - accuracy: 0.0980 - val_loss: 2.3077 - val_accuracy: 0.0988\n",
            "Epoch 3/25\n",
            "1600/1600 [==============================] - 3s 2ms/step - loss: 2.3076 - accuracy: 0.0982 - val_loss: 2.3078 - val_accuracy: 0.0996\n",
            "Epoch 4/25\n",
            "1600/1600 [==============================] - 3s 2ms/step - loss: 2.3073 - accuracy: 0.1018 - val_loss: 2.3122 - val_accuracy: 0.0993\n",
            "Epoch 5/25\n",
            "1600/1600 [==============================] - 3s 2ms/step - loss: 2.3072 - accuracy: 0.0991 - val_loss: 2.3052 - val_accuracy: 0.0988\n",
            "Epoch 6/25\n",
            "1600/1600 [==============================] - 3s 2ms/step - loss: 2.3073 - accuracy: 0.1000 - val_loss: 2.3067 - val_accuracy: 0.1002\n",
            "Epoch 7/25\n",
            "1600/1600 [==============================] - 3s 2ms/step - loss: 2.3073 - accuracy: 0.0997 - val_loss: 2.3130 - val_accuracy: 0.0988\n",
            "Epoch 8/25\n",
            "1600/1600 [==============================] - 3s 2ms/step - loss: 2.3074 - accuracy: 0.0987 - val_loss: 2.3083 - val_accuracy: 0.0993\n",
            "Epoch 9/25\n",
            "1600/1600 [==============================] - 3s 2ms/step - loss: 2.3075 - accuracy: 0.0992 - val_loss: 2.3087 - val_accuracy: 0.1019\n",
            "Epoch 10/25\n",
            "1600/1600 [==============================] - 3s 2ms/step - loss: 2.3075 - accuracy: 0.0992 - val_loss: 2.3081 - val_accuracy: 0.1002\n",
            "Epoch 11/25\n",
            "1600/1600 [==============================] - 3s 2ms/step - loss: 2.3074 - accuracy: 0.0999 - val_loss: 2.3075 - val_accuracy: 0.1001\n",
            "Epoch 12/25\n",
            "1600/1600 [==============================] - 3s 2ms/step - loss: 2.3072 - accuracy: 0.1012 - val_loss: 2.3086 - val_accuracy: 0.0993\n",
            "Epoch 13/25\n",
            "1600/1600 [==============================] - 3s 2ms/step - loss: 2.3073 - accuracy: 0.0988 - val_loss: 2.3061 - val_accuracy: 0.1000\n",
            "Epoch 14/25\n",
            "1600/1600 [==============================] - 3s 2ms/step - loss: 2.3074 - accuracy: 0.0993 - val_loss: 2.3122 - val_accuracy: 0.0993\n",
            "Epoch 15/25\n",
            "1600/1600 [==============================] - 3s 2ms/step - loss: 2.3077 - accuracy: 0.0985 - val_loss: 2.3088 - val_accuracy: 0.0993\n",
            "Epoch 16/25\n",
            "1600/1600 [==============================] - 3s 2ms/step - loss: 2.3074 - accuracy: 0.0995 - val_loss: 2.3064 - val_accuracy: 0.0993\n",
            "Epoch 17/25\n",
            "1600/1600 [==============================] - 3s 2ms/step - loss: 2.3076 - accuracy: 0.0988 - val_loss: 2.3100 - val_accuracy: 0.1001\n",
            "Epoch 18/25\n",
            "1600/1600 [==============================] - 3s 2ms/step - loss: 2.3075 - accuracy: 0.0982 - val_loss: 2.3066 - val_accuracy: 0.0993\n",
            "Epoch 19/25\n",
            "1600/1600 [==============================] - 3s 2ms/step - loss: 2.3073 - accuracy: 0.0997 - val_loss: 2.3057 - val_accuracy: 0.0993\n",
            "Epoch 20/25\n",
            "1600/1600 [==============================] - 3s 2ms/step - loss: 2.3074 - accuracy: 0.1003 - val_loss: 2.3076 - val_accuracy: 0.1019\n",
            "Epoch 21/25\n",
            "1600/1600 [==============================] - 3s 2ms/step - loss: 2.3074 - accuracy: 0.0992 - val_loss: 2.3058 - val_accuracy: 0.1001\n",
            "Epoch 22/25\n",
            "1600/1600 [==============================] - 3s 2ms/step - loss: 2.3073 - accuracy: 0.1015 - val_loss: 2.3065 - val_accuracy: 0.0988\n",
            "Epoch 23/25\n",
            "1600/1600 [==============================] - 3s 2ms/step - loss: 2.3075 - accuracy: 0.0997 - val_loss: 2.3086 - val_accuracy: 0.0993\n",
            "Epoch 24/25\n",
            "1600/1600 [==============================] - 3s 2ms/step - loss: 2.3073 - accuracy: 0.1006 - val_loss: 2.3130 - val_accuracy: 0.0993\n",
            "Epoch 25/25\n",
            "1600/1600 [==============================] - 3s 2ms/step - loss: 2.3074 - accuracy: 0.0993 - val_loss: 2.3051 - val_accuracy: 0.0988\n"
          ],
          "name": "stdout"
        }
      ]
    },
    {
      "cell_type": "code",
      "metadata": {
        "id": "nPieeRMhgBAo",
        "colab_type": "code",
        "colab": {
          "base_uri": "https://localhost:8080/",
          "height": 867
        },
        "outputId": "ee62857a-fd2a-402f-f2f1-f610e319f1bd"
      },
      "source": [
        "model_50 = create_model(lr=.1)\n",
        "bt_default = model_50.fit(X_train, y_train, \n",
        "                                epochs=25, \n",
        "                                batch_size=50, \n",
        "                                validation_data=(X_test, y_test))"
      ],
      "execution_count": null,
      "outputs": [
        {
          "output_type": "stream",
          "text": [
            "Epoch 1/25\n",
            "1600/1600 [==============================] - 3s 2ms/step - loss: 824817024.0000 - accuracy: 0.0983 - val_loss: 2.3031 - val_accuracy: 0.0996\n",
            "Epoch 2/25\n",
            "1600/1600 [==============================] - 3s 2ms/step - loss: 43595004379136.0000 - accuracy: 0.0987 - val_loss: 2.3029 - val_accuracy: 0.1019\n",
            "Epoch 3/25\n",
            "1600/1600 [==============================] - 3s 2ms/step - loss: 2.3031 - accuracy: 0.0999 - val_loss: 2.3030 - val_accuracy: 0.1000\n",
            "Epoch 4/25\n",
            "1600/1600 [==============================] - 3s 2ms/step - loss: 2.3031 - accuracy: 0.0996 - val_loss: 2.3031 - val_accuracy: 0.1001\n",
            "Epoch 5/25\n",
            "1600/1600 [==============================] - 3s 2ms/step - loss: 2.3030 - accuracy: 0.1002 - val_loss: 2.3032 - val_accuracy: 0.1001\n",
            "Epoch 6/25\n",
            "1600/1600 [==============================] - 3s 2ms/step - loss: 2.3031 - accuracy: 0.0993 - val_loss: 2.3032 - val_accuracy: 0.1002\n",
            "Epoch 7/25\n",
            "1600/1600 [==============================] - 3s 2ms/step - loss: 2.3030 - accuracy: 0.0987 - val_loss: 2.3033 - val_accuracy: 0.0996\n",
            "Epoch 8/25\n",
            "1600/1600 [==============================] - 3s 2ms/step - loss: 2.3031 - accuracy: 0.0994 - val_loss: 2.3028 - val_accuracy: 0.1000\n",
            "Epoch 9/25\n",
            "1600/1600 [==============================] - 3s 2ms/step - loss: 2.3032 - accuracy: 0.0984 - val_loss: 2.3036 - val_accuracy: 0.1001\n",
            "Epoch 10/25\n",
            "1600/1600 [==============================] - 3s 2ms/step - loss: 2.3031 - accuracy: 0.0994 - val_loss: 2.3030 - val_accuracy: 0.0993\n",
            "Epoch 11/25\n",
            "1600/1600 [==============================] - 3s 2ms/step - loss: 2.3031 - accuracy: 0.0977 - val_loss: 2.3031 - val_accuracy: 0.0993\n",
            "Epoch 12/25\n",
            "1600/1600 [==============================] - 3s 2ms/step - loss: 2.3032 - accuracy: 0.0988 - val_loss: 2.3028 - val_accuracy: 0.1001\n",
            "Epoch 13/25\n",
            "1600/1600 [==============================] - 3s 2ms/step - loss: 2.3030 - accuracy: 0.0996 - val_loss: 2.3035 - val_accuracy: 0.0993\n",
            "Epoch 14/25\n",
            "1600/1600 [==============================] - 3s 2ms/step - loss: 2.3032 - accuracy: 0.0994 - val_loss: 2.3029 - val_accuracy: 0.1000\n",
            "Epoch 15/25\n",
            "1600/1600 [==============================] - 3s 2ms/step - loss: 2.3031 - accuracy: 0.0990 - val_loss: 2.3029 - val_accuracy: 0.0993\n",
            "Epoch 16/25\n",
            "1600/1600 [==============================] - 3s 2ms/step - loss: 2.3031 - accuracy: 0.0995 - val_loss: 2.3029 - val_accuracy: 0.0988\n",
            "Epoch 17/25\n",
            "1600/1600 [==============================] - 3s 2ms/step - loss: 2.3031 - accuracy: 0.1003 - val_loss: 2.3029 - val_accuracy: 0.0993\n",
            "Epoch 18/25\n",
            "1600/1600 [==============================] - 3s 2ms/step - loss: 2.3030 - accuracy: 0.1016 - val_loss: 2.3030 - val_accuracy: 0.1000\n",
            "Epoch 19/25\n",
            "1600/1600 [==============================] - 3s 2ms/step - loss: 2.3030 - accuracy: 0.1001 - val_loss: 2.3031 - val_accuracy: 0.0996\n",
            "Epoch 20/25\n",
            "1600/1600 [==============================] - 3s 2ms/step - loss: 2.3032 - accuracy: 0.0985 - val_loss: 2.3027 - val_accuracy: 0.1001\n",
            "Epoch 21/25\n",
            "1600/1600 [==============================] - 3s 2ms/step - loss: 2.3030 - accuracy: 0.1015 - val_loss: 2.3030 - val_accuracy: 0.0988\n",
            "Epoch 22/25\n",
            "1600/1600 [==============================] - 3s 2ms/step - loss: 2.3031 - accuracy: 0.0996 - val_loss: 2.3031 - val_accuracy: 0.1000\n",
            "Epoch 23/25\n",
            "1600/1600 [==============================] - 3s 2ms/step - loss: 2.3031 - accuracy: 0.1001 - val_loss: 2.3028 - val_accuracy: 0.1019\n",
            "Epoch 24/25\n",
            "1600/1600 [==============================] - 3s 2ms/step - loss: 2.3031 - accuracy: 0.0986 - val_loss: 2.3030 - val_accuracy: 0.0993\n",
            "Epoch 25/25\n",
            "1600/1600 [==============================] - 3s 2ms/step - loss: 2.3031 - accuracy: 0.0995 - val_loss: 2.3030 - val_accuracy: 0.1000\n"
          ],
          "name": "stdout"
        }
      ]
    },
    {
      "cell_type": "code",
      "metadata": {
        "id": "WeFvy86ngDSt",
        "colab_type": "code",
        "colab": {
          "base_uri": "https://localhost:8080/",
          "height": 867
        },
        "outputId": "01459c83-1039-462c-e7f8-129aec211684"
      },
      "source": [
        "model_50 = create_model(lr=.01)\n",
        "bt_default = model_50.fit(X_train, y_train, \n",
        "                                epochs=25, \n",
        "                                batch_size=50, \n",
        "                                validation_data=(X_test, y_test))"
      ],
      "execution_count": null,
      "outputs": [
        {
          "output_type": "stream",
          "text": [
            "Epoch 1/25\n",
            "1600/1600 [==============================] - 3s 2ms/step - loss: 26.5002 - accuracy: 0.0985 - val_loss: 2.3334 - val_accuracy: 0.1006\n",
            "Epoch 2/25\n",
            "1600/1600 [==============================] - 3s 2ms/step - loss: 2.3051 - accuracy: 0.0994 - val_loss: 2.3333 - val_accuracy: 0.1001\n",
            "Epoch 3/25\n",
            "1600/1600 [==============================] - 3s 2ms/step - loss: 2.3029 - accuracy: 0.0987 - val_loss: 2.3334 - val_accuracy: 0.0993\n",
            "Epoch 4/25\n",
            "1600/1600 [==============================] - 3s 2ms/step - loss: 2.3026 - accuracy: 0.1002 - val_loss: 2.3334 - val_accuracy: 0.1000\n",
            "Epoch 5/25\n",
            "1600/1600 [==============================] - 3s 2ms/step - loss: 2.3026 - accuracy: 0.0995 - val_loss: 2.3334 - val_accuracy: 0.0993\n",
            "Epoch 6/25\n",
            "1600/1600 [==============================] - 3s 2ms/step - loss: 2.3026 - accuracy: 0.0992 - val_loss: 2.3334 - val_accuracy: 0.0995\n",
            "Epoch 7/25\n",
            "1600/1600 [==============================] - 3s 2ms/step - loss: 2.3026 - accuracy: 0.0978 - val_loss: 2.3334 - val_accuracy: 0.0993\n",
            "Epoch 8/25\n",
            "1600/1600 [==============================] - 3s 2ms/step - loss: 2.3026 - accuracy: 0.0975 - val_loss: 2.3334 - val_accuracy: 0.0993\n",
            "Epoch 9/25\n",
            "1600/1600 [==============================] - 3s 2ms/step - loss: 2.3026 - accuracy: 0.0981 - val_loss: 2.3334 - val_accuracy: 0.0993\n",
            "Epoch 10/25\n",
            "1600/1600 [==============================] - 3s 2ms/step - loss: 2.3026 - accuracy: 0.0972 - val_loss: 2.3334 - val_accuracy: 0.0993\n",
            "Epoch 11/25\n",
            "1600/1600 [==============================] - 3s 2ms/step - loss: 2.3026 - accuracy: 0.0987 - val_loss: 2.3334 - val_accuracy: 0.0988\n",
            "Epoch 12/25\n",
            "1600/1600 [==============================] - 3s 2ms/step - loss: 2.3026 - accuracy: 0.0978 - val_loss: 2.3334 - val_accuracy: 0.1006\n",
            "Epoch 13/25\n",
            "1600/1600 [==============================] - 3s 2ms/step - loss: 2.3026 - accuracy: 0.0967 - val_loss: 2.3334 - val_accuracy: 0.0993\n",
            "Epoch 14/25\n",
            "1600/1600 [==============================] - 3s 2ms/step - loss: 2.3026 - accuracy: 0.0962 - val_loss: 2.3334 - val_accuracy: 0.0995\n",
            "Epoch 15/25\n",
            "1600/1600 [==============================] - 3s 2ms/step - loss: 2.3026 - accuracy: 0.0996 - val_loss: 2.3334 - val_accuracy: 0.0995\n",
            "Epoch 16/25\n",
            "1600/1600 [==============================] - 3s 2ms/step - loss: 2.3026 - accuracy: 0.0984 - val_loss: 2.3334 - val_accuracy: 0.0993\n",
            "Epoch 17/25\n",
            "1600/1600 [==============================] - 3s 2ms/step - loss: 2.3026 - accuracy: 0.0989 - val_loss: 2.3334 - val_accuracy: 0.0993\n",
            "Epoch 18/25\n",
            "1600/1600 [==============================] - 3s 2ms/step - loss: 2.3026 - accuracy: 0.0983 - val_loss: 2.3334 - val_accuracy: 0.0993\n",
            "Epoch 19/25\n",
            "1600/1600 [==============================] - 3s 2ms/step - loss: 2.3026 - accuracy: 0.0987 - val_loss: 2.3334 - val_accuracy: 0.1001\n",
            "Epoch 20/25\n",
            "1600/1600 [==============================] - 3s 2ms/step - loss: 2.3026 - accuracy: 0.1000 - val_loss: 2.3334 - val_accuracy: 0.0993\n",
            "Epoch 21/25\n",
            "1600/1600 [==============================] - 3s 2ms/step - loss: 2.3026 - accuracy: 0.0959 - val_loss: 2.3334 - val_accuracy: 0.0993\n",
            "Epoch 22/25\n",
            "1600/1600 [==============================] - 3s 2ms/step - loss: 2.3026 - accuracy: 0.0977 - val_loss: 2.3334 - val_accuracy: 0.1000\n",
            "Epoch 23/25\n",
            "1600/1600 [==============================] - 3s 2ms/step - loss: 2.3026 - accuracy: 0.0993 - val_loss: 2.3334 - val_accuracy: 0.0988\n",
            "Epoch 24/25\n",
            "1600/1600 [==============================] - 3s 2ms/step - loss: 2.3026 - accuracy: 0.0966 - val_loss: 2.3334 - val_accuracy: 0.0993\n",
            "Epoch 25/25\n",
            "1600/1600 [==============================] - 3s 2ms/step - loss: 2.3026 - accuracy: 0.0991 - val_loss: 2.3334 - val_accuracy: 0.1000\n"
          ],
          "name": "stdout"
        }
      ]
    },
    {
      "cell_type": "code",
      "metadata": {
        "id": "VGwJzoaugFBR",
        "colab_type": "code",
        "colab": {
          "base_uri": "https://localhost:8080/",
          "height": 867
        },
        "outputId": "053087f9-794d-4e22-e5ce-0e8b76b79239"
      },
      "source": [
        "model_50 = create_model(lr=.001)\n",
        "bt_default = model_50.fit(X_train, y_train, \n",
        "                                epochs=25, \n",
        "                                batch_size=50, \n",
        "                                validation_data=(X_test, y_test))"
      ],
      "execution_count": null,
      "outputs": [
        {
          "output_type": "stream",
          "text": [
            "Epoch 1/25\n",
            "1600/1600 [==============================] - 3s 2ms/step - loss: 2.0615 - accuracy: 0.3794 - val_loss: 1.5604 - val_accuracy: 0.4775\n",
            "Epoch 2/25\n",
            "1600/1600 [==============================] - 3s 2ms/step - loss: 1.4965 - accuracy: 0.4928 - val_loss: 1.4245 - val_accuracy: 0.5143\n",
            "Epoch 3/25\n",
            "1600/1600 [==============================] - 3s 2ms/step - loss: 1.3990 - accuracy: 0.5299 - val_loss: 1.4048 - val_accuracy: 0.5160\n",
            "Epoch 4/25\n",
            "1600/1600 [==============================] - 3s 2ms/step - loss: 1.3345 - accuracy: 0.5513 - val_loss: 1.3109 - val_accuracy: 0.5573\n",
            "Epoch 5/25\n",
            "1600/1600 [==============================] - 3s 2ms/step - loss: 1.2797 - accuracy: 0.5742 - val_loss: 1.2784 - val_accuracy: 0.5724\n",
            "Epoch 6/25\n",
            "1600/1600 [==============================] - 3s 2ms/step - loss: 1.2346 - accuracy: 0.5925 - val_loss: 1.2303 - val_accuracy: 0.5889\n",
            "Epoch 7/25\n",
            "1600/1600 [==============================] - 3s 2ms/step - loss: 1.1947 - accuracy: 0.6094 - val_loss: 1.1971 - val_accuracy: 0.6165\n",
            "Epoch 8/25\n",
            "1600/1600 [==============================] - 3s 2ms/step - loss: 1.1624 - accuracy: 0.6213 - val_loss: 1.1917 - val_accuracy: 0.6108\n",
            "Epoch 9/25\n",
            "1600/1600 [==============================] - 3s 2ms/step - loss: 1.1365 - accuracy: 0.6296 - val_loss: 1.1509 - val_accuracy: 0.6385\n",
            "Epoch 10/25\n",
            "1600/1600 [==============================] - 3s 2ms/step - loss: 1.1138 - accuracy: 0.6406 - val_loss: 1.1375 - val_accuracy: 0.6484\n",
            "Epoch 11/25\n",
            "1600/1600 [==============================] - 3s 2ms/step - loss: 1.0926 - accuracy: 0.6462 - val_loss: 1.1155 - val_accuracy: 0.6489\n",
            "Epoch 12/25\n",
            "1600/1600 [==============================] - 3s 2ms/step - loss: 1.0736 - accuracy: 0.6536 - val_loss: 1.0991 - val_accuracy: 0.6536\n",
            "Epoch 13/25\n",
            "1600/1600 [==============================] - 3s 2ms/step - loss: 1.0579 - accuracy: 0.6582 - val_loss: 1.0918 - val_accuracy: 0.6599\n",
            "Epoch 14/25\n",
            "1600/1600 [==============================] - 3s 2ms/step - loss: 1.0455 - accuracy: 0.6612 - val_loss: 1.0801 - val_accuracy: 0.6597\n",
            "Epoch 15/25\n",
            "1600/1600 [==============================] - 3s 2ms/step - loss: 1.0314 - accuracy: 0.6649 - val_loss: 1.0708 - val_accuracy: 0.6514\n",
            "Epoch 16/25\n",
            "1600/1600 [==============================] - 3s 2ms/step - loss: 1.0202 - accuracy: 0.6676 - val_loss: 1.0607 - val_accuracy: 0.6605\n",
            "Epoch 17/25\n",
            "1600/1600 [==============================] - 3s 2ms/step - loss: 1.0096 - accuracy: 0.6704 - val_loss: 1.0514 - val_accuracy: 0.6675\n",
            "Epoch 18/25\n",
            "1600/1600 [==============================] - 3s 2ms/step - loss: 0.9997 - accuracy: 0.6729 - val_loss: 1.0394 - val_accuracy: 0.6686\n",
            "Epoch 19/25\n",
            "1600/1600 [==============================] - 4s 2ms/step - loss: 0.9894 - accuracy: 0.6761 - val_loss: 1.0309 - val_accuracy: 0.6747\n",
            "Epoch 20/25\n",
            "1600/1600 [==============================] - 4s 2ms/step - loss: 0.9815 - accuracy: 0.6795 - val_loss: 1.0223 - val_accuracy: 0.6798\n",
            "Epoch 21/25\n",
            "1600/1600 [==============================] - 4s 2ms/step - loss: 0.9725 - accuracy: 0.6831 - val_loss: 1.0137 - val_accuracy: 0.6808\n",
            "Epoch 22/25\n",
            "1600/1600 [==============================] - 3s 2ms/step - loss: 0.9639 - accuracy: 0.6864 - val_loss: 1.0165 - val_accuracy: 0.6840\n",
            "Epoch 23/25\n",
            "1600/1600 [==============================] - 3s 2ms/step - loss: 0.9555 - accuracy: 0.6894 - val_loss: 1.0003 - val_accuracy: 0.6859\n",
            "Epoch 24/25\n",
            "1600/1600 [==============================] - 3s 2ms/step - loss: 0.9485 - accuracy: 0.6926 - val_loss: 0.9997 - val_accuracy: 0.6935\n",
            "Epoch 25/25\n",
            "1600/1600 [==============================] - 3s 2ms/step - loss: 0.9386 - accuracy: 0.6955 - val_loss: 0.9997 - val_accuracy: 0.6917\n"
          ],
          "name": "stdout"
        }
      ]
    },
    {
      "cell_type": "code",
      "metadata": {
        "id": "dHO6Eay_gJLt",
        "colab_type": "code",
        "colab": {
          "base_uri": "https://localhost:8080/",
          "height": 867
        },
        "outputId": "952ac4e4-d0ab-49aa-bf34-29f0415e2c1e"
      },
      "source": [
        "model_50 = create_model(lr=.0001)\n",
        "bt_default = model_50.fit(X_train, y_train, \n",
        "                                epochs=25, \n",
        "                                batch_size=50, \n",
        "                                validation_data=(X_test, y_test))"
      ],
      "execution_count": null,
      "outputs": [
        {
          "output_type": "stream",
          "text": [
            "Epoch 1/25\n",
            "1600/1600 [==============================] - 3s 2ms/step - loss: 4.4222 - accuracy: 0.1990 - val_loss: 2.1275 - val_accuracy: 0.2377\n",
            "Epoch 2/25\n",
            "1600/1600 [==============================] - 3s 2ms/step - loss: 2.0336 - accuracy: 0.2879 - val_loss: 1.9569 - val_accuracy: 0.3172\n",
            "Epoch 3/25\n",
            "1600/1600 [==============================] - 3s 2ms/step - loss: 1.8962 - accuracy: 0.3437 - val_loss: 1.8548 - val_accuracy: 0.3579\n",
            "Epoch 4/25\n",
            "1600/1600 [==============================] - 3s 2ms/step - loss: 1.8148 - accuracy: 0.3729 - val_loss: 1.7964 - val_accuracy: 0.3850\n",
            "Epoch 5/25\n",
            "1600/1600 [==============================] - 3s 2ms/step - loss: 1.7669 - accuracy: 0.3929 - val_loss: 1.7567 - val_accuracy: 0.4000\n",
            "Epoch 6/25\n",
            "1600/1600 [==============================] - 3s 2ms/step - loss: 1.7310 - accuracy: 0.4065 - val_loss: 1.7292 - val_accuracy: 0.4080\n",
            "Epoch 7/25\n",
            "1600/1600 [==============================] - 3s 2ms/step - loss: 1.7036 - accuracy: 0.4162 - val_loss: 1.7044 - val_accuracy: 0.4184\n",
            "Epoch 8/25\n",
            "1600/1600 [==============================] - 3s 2ms/step - loss: 1.6800 - accuracy: 0.4221 - val_loss: 1.6857 - val_accuracy: 0.4288\n",
            "Epoch 9/25\n",
            "1600/1600 [==============================] - 3s 2ms/step - loss: 1.6600 - accuracy: 0.4297 - val_loss: 1.6682 - val_accuracy: 0.4326\n",
            "Epoch 10/25\n",
            "1600/1600 [==============================] - 3s 2ms/step - loss: 1.6429 - accuracy: 0.4352 - val_loss: 1.6497 - val_accuracy: 0.4367\n",
            "Epoch 11/25\n",
            "1600/1600 [==============================] - 3s 2ms/step - loss: 1.6255 - accuracy: 0.4410 - val_loss: 1.6366 - val_accuracy: 0.4399\n",
            "Epoch 12/25\n",
            "1600/1600 [==============================] - 3s 2ms/step - loss: 1.6103 - accuracy: 0.4464 - val_loss: 1.6185 - val_accuracy: 0.4496\n",
            "Epoch 13/25\n",
            "1600/1600 [==============================] - 3s 2ms/step - loss: 1.5963 - accuracy: 0.4509 - val_loss: 1.6058 - val_accuracy: 0.4535\n",
            "Epoch 14/25\n",
            "1600/1600 [==============================] - 3s 2ms/step - loss: 1.5807 - accuracy: 0.4569 - val_loss: 1.5901 - val_accuracy: 0.4590\n",
            "Epoch 15/25\n",
            "1600/1600 [==============================] - 3s 2ms/step - loss: 1.5658 - accuracy: 0.4623 - val_loss: 1.5772 - val_accuracy: 0.4618\n",
            "Epoch 16/25\n",
            "1600/1600 [==============================] - 3s 2ms/step - loss: 1.5514 - accuracy: 0.4677 - val_loss: 1.5619 - val_accuracy: 0.4719\n",
            "Epoch 17/25\n",
            "1600/1600 [==============================] - 3s 2ms/step - loss: 1.5371 - accuracy: 0.4738 - val_loss: 1.5471 - val_accuracy: 0.4757\n",
            "Epoch 18/25\n",
            "1600/1600 [==============================] - 3s 2ms/step - loss: 1.5227 - accuracy: 0.4769 - val_loss: 1.5356 - val_accuracy: 0.4823\n",
            "Epoch 19/25\n",
            "1600/1600 [==============================] - 3s 2ms/step - loss: 1.5088 - accuracy: 0.4821 - val_loss: 1.5205 - val_accuracy: 0.4859\n",
            "Epoch 20/25\n",
            "1600/1600 [==============================] - 3s 2ms/step - loss: 1.4955 - accuracy: 0.4863 - val_loss: 1.5092 - val_accuracy: 0.4854\n",
            "Epoch 21/25\n",
            "1600/1600 [==============================] - 3s 2ms/step - loss: 1.4830 - accuracy: 0.4882 - val_loss: 1.4979 - val_accuracy: 0.4942\n",
            "Epoch 22/25\n",
            "1600/1600 [==============================] - 3s 2ms/step - loss: 1.4684 - accuracy: 0.4902 - val_loss: 1.4799 - val_accuracy: 0.4922\n",
            "Epoch 23/25\n",
            "1600/1600 [==============================] - 3s 2ms/step - loss: 1.4516 - accuracy: 0.4920 - val_loss: 1.4611 - val_accuracy: 0.4908\n",
            "Epoch 24/25\n",
            "1600/1600 [==============================] - 3s 2ms/step - loss: 1.4326 - accuracy: 0.4908 - val_loss: 1.4397 - val_accuracy: 0.4927\n",
            "Epoch 25/25\n",
            "1600/1600 [==============================] - 3s 2ms/step - loss: 1.4090 - accuracy: 0.4910 - val_loss: 1.4167 - val_accuracy: 0.4959\n"
          ],
          "name": "stdout"
        }
      ]
    },
    {
      "cell_type": "markdown",
      "metadata": {
        "id": "gxMtSRhV9Q7I",
        "colab_type": "text"
      },
      "source": [
        "### Experiment with different Optimizers\n",
        "* Run 5 experiments with various optimizers available in TensorFlow. See list [here](https://www.tensorflow.org/api_docs/python/tf/keras/optimizers)\n",
        "* Visualize the results\n",
        "* Write up an analysis of the experiments and select the \"best\" performing model among your experiments. Make sure to compare against the previous experiments and your model's performance yesterday.\n",
        "* Repeat the experiment combining Learning Rate and different optimizers. Does the best performing model change? "
      ]
    },
    {
      "cell_type": "code",
      "metadata": {
        "id": "O3MsdD1nly6n",
        "colab_type": "code",
        "colab": {}
      },
      "source": [
        "from tensorflow.keras.optimizers import RMSprop\n",
        "from tensorflow.keras.optimizers import Adadelta\n",
        "from tensorflow.keras.optimizers import Adagrad\n",
        "from tensorflow.keras.optimizers import Adam"
      ],
      "execution_count": null,
      "outputs": []
    },
    {
      "cell_type": "code",
      "metadata": {
        "id": "ujLuzdNA91ip",
        "colab_type": "code",
        "colab": {
          "base_uri": "https://localhost:8080/",
          "height": 867
        },
        "outputId": "54447b87-a28b-4816-efba-abe33f5aff0c"
      },
      "source": [
        "model_50 = create_model(lr=.001, opt=RMSprop)\n",
        "bt_default = model_50.fit(X_train, y_train, \n",
        "                                epochs=25, \n",
        "                                batch_size=50, \n",
        "                                validation_data=(X_test, y_test))"
      ],
      "execution_count": null,
      "outputs": [
        {
          "output_type": "stream",
          "text": [
            "Epoch 1/25\n",
            "1600/1600 [==============================] - 4s 3ms/step - loss: 1.9956 - accuracy: 0.5518 - val_loss: 1.1110 - val_accuracy: 0.6518\n",
            "Epoch 2/25\n",
            "1600/1600 [==============================] - 4s 2ms/step - loss: 1.0695 - accuracy: 0.6810 - val_loss: 0.9899 - val_accuracy: 0.7132\n",
            "Epoch 3/25\n",
            "1600/1600 [==============================] - 4s 2ms/step - loss: 0.9838 - accuracy: 0.7109 - val_loss: 0.9476 - val_accuracy: 0.7219\n",
            "Epoch 4/25\n",
            "1600/1600 [==============================] - 4s 2ms/step - loss: 0.9167 - accuracy: 0.7333 - val_loss: 0.8977 - val_accuracy: 0.7418\n",
            "Epoch 5/25\n",
            "1600/1600 [==============================] - 4s 2ms/step - loss: 0.8716 - accuracy: 0.7511 - val_loss: 0.8690 - val_accuracy: 0.7576\n",
            "Epoch 6/25\n",
            "1600/1600 [==============================] - 4s 2ms/step - loss: 0.8302 - accuracy: 0.7642 - val_loss: 0.8670 - val_accuracy: 0.7681\n",
            "Epoch 7/25\n",
            "1600/1600 [==============================] - 4s 2ms/step - loss: 0.8056 - accuracy: 0.7730 - val_loss: 0.8129 - val_accuracy: 0.7751\n",
            "Epoch 8/25\n",
            "1600/1600 [==============================] - 4s 2ms/step - loss: 0.7937 - accuracy: 0.7770 - val_loss: 0.8528 - val_accuracy: 0.7657\n",
            "Epoch 9/25\n",
            "1600/1600 [==============================] - 4s 2ms/step - loss: 0.7825 - accuracy: 0.7814 - val_loss: 0.8028 - val_accuracy: 0.7738\n",
            "Epoch 10/25\n",
            "1600/1600 [==============================] - 4s 2ms/step - loss: 0.7708 - accuracy: 0.7858 - val_loss: 0.8294 - val_accuracy: 0.7793\n",
            "Epoch 11/25\n",
            "1600/1600 [==============================] - 4s 2ms/step - loss: 0.7682 - accuracy: 0.7871 - val_loss: 0.7880 - val_accuracy: 0.7834\n",
            "Epoch 12/25\n",
            "1600/1600 [==============================] - 4s 2ms/step - loss: 0.7577 - accuracy: 0.7892 - val_loss: 0.8393 - val_accuracy: 0.7786\n",
            "Epoch 13/25\n",
            "1600/1600 [==============================] - 4s 2ms/step - loss: 0.7455 - accuracy: 0.7911 - val_loss: 0.7848 - val_accuracy: 0.7847\n",
            "Epoch 14/25\n",
            "1600/1600 [==============================] - 4s 2ms/step - loss: 0.7347 - accuracy: 0.7947 - val_loss: 0.8438 - val_accuracy: 0.7904\n",
            "Epoch 15/25\n",
            "1600/1600 [==============================] - 4s 2ms/step - loss: 0.7211 - accuracy: 0.7968 - val_loss: 0.7912 - val_accuracy: 0.7893\n",
            "Epoch 16/25\n",
            "1600/1600 [==============================] - 4s 2ms/step - loss: 0.7275 - accuracy: 0.7985 - val_loss: 0.8400 - val_accuracy: 0.7843\n",
            "Epoch 17/25\n",
            "1600/1600 [==============================] - 4s 2ms/step - loss: 0.7228 - accuracy: 0.7995 - val_loss: 0.8571 - val_accuracy: 0.7894\n",
            "Epoch 18/25\n",
            "1600/1600 [==============================] - 4s 2ms/step - loss: 0.7204 - accuracy: 0.8003 - val_loss: 0.7692 - val_accuracy: 0.7916\n",
            "Epoch 19/25\n",
            "1600/1600 [==============================] - 5s 3ms/step - loss: 0.7154 - accuracy: 0.8021 - val_loss: 0.7692 - val_accuracy: 0.7923\n",
            "Epoch 20/25\n",
            "1600/1600 [==============================] - 4s 3ms/step - loss: 0.7060 - accuracy: 0.8029 - val_loss: 0.8016 - val_accuracy: 0.7904\n",
            "Epoch 21/25\n",
            "1600/1600 [==============================] - 4s 2ms/step - loss: 0.7063 - accuracy: 0.8047 - val_loss: 0.8917 - val_accuracy: 0.7833\n",
            "Epoch 22/25\n",
            "1600/1600 [==============================] - 4s 2ms/step - loss: 0.7055 - accuracy: 0.8046 - val_loss: 0.8237 - val_accuracy: 0.7905\n",
            "Epoch 23/25\n",
            "1600/1600 [==============================] - 4s 2ms/step - loss: 0.7024 - accuracy: 0.8055 - val_loss: 0.8163 - val_accuracy: 0.7937\n",
            "Epoch 24/25\n",
            "1600/1600 [==============================] - 4s 2ms/step - loss: 0.7115 - accuracy: 0.8062 - val_loss: 0.7992 - val_accuracy: 0.7962\n",
            "Epoch 25/25\n",
            "1600/1600 [==============================] - 4s 2ms/step - loss: 0.7016 - accuracy: 0.8066 - val_loss: 0.8612 - val_accuracy: 0.7940\n"
          ],
          "name": "stdout"
        }
      ]
    },
    {
      "cell_type": "code",
      "metadata": {
        "id": "T6Ozf-_MgZh-",
        "colab_type": "code",
        "colab": {
          "base_uri": "https://localhost:8080/",
          "height": 867
        },
        "outputId": "3376ee47-9947-4175-9d84-f825b3350406"
      },
      "source": [
        "model_50 = create_model(lr=.001, opt=Adadelta)\n",
        "bt_default = model_50.fit(X_train, y_train, \n",
        "                                epochs=25, \n",
        "                                batch_size=50, \n",
        "                                validation_data=(X_test, y_test))"
      ],
      "execution_count": null,
      "outputs": [
        {
          "output_type": "stream",
          "text": [
            "Epoch 1/25\n",
            "1600/1600 [==============================] - 3s 2ms/step - loss: 74.3556 - accuracy: 0.1434 - val_loss: 58.7356 - val_accuracy: 0.1533\n",
            "Epoch 2/25\n",
            "1600/1600 [==============================] - 3s 2ms/step - loss: 50.1435 - accuracy: 0.1630 - val_loss: 43.5133 - val_accuracy: 0.1690\n",
            "Epoch 3/25\n",
            "1600/1600 [==============================] - 3s 2ms/step - loss: 38.8648 - accuracy: 0.1829 - val_loss: 35.1016 - val_accuracy: 0.1910\n",
            "Epoch 4/25\n",
            "1600/1600 [==============================] - 3s 2ms/step - loss: 32.2548 - accuracy: 0.2050 - val_loss: 29.8131 - val_accuracy: 0.2113\n",
            "Epoch 5/25\n",
            "1600/1600 [==============================] - 3s 2ms/step - loss: 27.7831 - accuracy: 0.2214 - val_loss: 26.0177 - val_accuracy: 0.2273\n",
            "Epoch 6/25\n",
            "1600/1600 [==============================] - 4s 2ms/step - loss: 24.4443 - accuracy: 0.2362 - val_loss: 23.0720 - val_accuracy: 0.2398\n",
            "Epoch 7/25\n",
            "1600/1600 [==============================] - 3s 2ms/step - loss: 21.8076 - accuracy: 0.2488 - val_loss: 20.6781 - val_accuracy: 0.2503\n",
            "Epoch 8/25\n",
            "1600/1600 [==============================] - 3s 2ms/step - loss: 19.6556 - accuracy: 0.2591 - val_loss: 18.7114 - val_accuracy: 0.2629\n",
            "Epoch 9/25\n",
            "1600/1600 [==============================] - 3s 2ms/step - loss: 17.8712 - accuracy: 0.2687 - val_loss: 17.0692 - val_accuracy: 0.2721\n",
            "Epoch 10/25\n",
            "1600/1600 [==============================] - 3s 2ms/step - loss: 16.3786 - accuracy: 0.2778 - val_loss: 15.6775 - val_accuracy: 0.2785\n",
            "Epoch 11/25\n",
            "1600/1600 [==============================] - 3s 2ms/step - loss: 15.1093 - accuracy: 0.2851 - val_loss: 14.4908 - val_accuracy: 0.2869\n",
            "Epoch 12/25\n",
            "1600/1600 [==============================] - 3s 2ms/step - loss: 14.0064 - accuracy: 0.2922 - val_loss: 13.4520 - val_accuracy: 0.2936\n",
            "Epoch 13/25\n",
            "1600/1600 [==============================] - 4s 2ms/step - loss: 13.0290 - accuracy: 0.2979 - val_loss: 12.5168 - val_accuracy: 0.2985\n",
            "Epoch 14/25\n",
            "1600/1600 [==============================] - 4s 2ms/step - loss: 12.1311 - accuracy: 0.3026 - val_loss: 11.6520 - val_accuracy: 0.3022\n",
            "Epoch 15/25\n",
            "1600/1600 [==============================] - 4s 2ms/step - loss: 11.2906 - accuracy: 0.3063 - val_loss: 10.8530 - val_accuracy: 0.3040\n",
            "Epoch 16/25\n",
            "1600/1600 [==============================] - 3s 2ms/step - loss: 10.5010 - accuracy: 0.3078 - val_loss: 10.1052 - val_accuracy: 0.3052\n",
            "Epoch 17/25\n",
            "1600/1600 [==============================] - 3s 2ms/step - loss: 9.7607 - accuracy: 0.3076 - val_loss: 9.3962 - val_accuracy: 0.3044\n",
            "Epoch 18/25\n",
            "1600/1600 [==============================] - 3s 2ms/step - loss: 9.0470 - accuracy: 0.3067 - val_loss: 8.7025 - val_accuracy: 0.3023\n",
            "Epoch 19/25\n",
            "1600/1600 [==============================] - 3s 2ms/step - loss: 8.3528 - accuracy: 0.3037 - val_loss: 8.0236 - val_accuracy: 0.2982\n",
            "Epoch 20/25\n",
            "1600/1600 [==============================] - 3s 2ms/step - loss: 7.6745 - accuracy: 0.2986 - val_loss: 7.3596 - val_accuracy: 0.2947\n",
            "Epoch 21/25\n",
            "1600/1600 [==============================] - 3s 2ms/step - loss: 7.0184 - accuracy: 0.2918 - val_loss: 6.7240 - val_accuracy: 0.2882\n",
            "Epoch 22/25\n",
            "1600/1600 [==============================] - 3s 2ms/step - loss: 6.3981 - accuracy: 0.2842 - val_loss: 6.1237 - val_accuracy: 0.2821\n",
            "Epoch 23/25\n",
            "1600/1600 [==============================] - 4s 2ms/step - loss: 5.8200 - accuracy: 0.2751 - val_loss: 5.5690 - val_accuracy: 0.2741\n",
            "Epoch 24/25\n",
            "1600/1600 [==============================] - 3s 2ms/step - loss: 5.2962 - accuracy: 0.2666 - val_loss: 5.0816 - val_accuracy: 0.2655\n",
            "Epoch 25/25\n",
            "1600/1600 [==============================] - 3s 2ms/step - loss: 4.8391 - accuracy: 0.2569 - val_loss: 4.6627 - val_accuracy: 0.2573\n"
          ],
          "name": "stdout"
        }
      ]
    },
    {
      "cell_type": "code",
      "metadata": {
        "id": "lN0OHqwmgaHB",
        "colab_type": "code",
        "colab": {
          "base_uri": "https://localhost:8080/",
          "height": 867
        },
        "outputId": "1f693655-0ab2-4329-afd8-97ab2f275d9c"
      },
      "source": [
        "model_50 = create_model(lr=.001, opt=Adagrad)\n",
        "bt_default = model_50.fit(X_train, y_train, \n",
        "                                epochs=25, \n",
        "                                batch_size=50, \n",
        "                                validation_data=(X_test, y_test))"
      ],
      "execution_count": null,
      "outputs": [
        {
          "output_type": "stream",
          "text": [
            "Epoch 1/25\n",
            "1600/1600 [==============================] - 3s 2ms/step - loss: 4.3345 - accuracy: 0.2021 - val_loss: 2.3133 - val_accuracy: 0.2118\n",
            "Epoch 2/25\n",
            "1600/1600 [==============================] - 3s 2ms/step - loss: 2.2349 - accuracy: 0.2219 - val_loss: 2.1705 - val_accuracy: 0.2317\n",
            "Epoch 3/25\n",
            "1600/1600 [==============================] - 3s 2ms/step - loss: 2.1285 - accuracy: 0.2406 - val_loss: 2.0958 - val_accuracy: 0.2524\n",
            "Epoch 4/25\n",
            "1600/1600 [==============================] - 3s 2ms/step - loss: 2.0646 - accuracy: 0.2598 - val_loss: 2.0426 - val_accuracy: 0.2693\n",
            "Epoch 5/25\n",
            "1600/1600 [==============================] - 4s 2ms/step - loss: 2.0172 - accuracy: 0.2755 - val_loss: 2.0015 - val_accuracy: 0.2812\n",
            "Epoch 6/25\n",
            "1600/1600 [==============================] - 3s 2ms/step - loss: 1.9800 - accuracy: 0.2878 - val_loss: 1.9694 - val_accuracy: 0.2919\n",
            "Epoch 7/25\n",
            "1600/1600 [==============================] - 3s 2ms/step - loss: 1.9496 - accuracy: 0.2976 - val_loss: 1.9429 - val_accuracy: 0.3016\n",
            "Epoch 8/25\n",
            "1600/1600 [==============================] - 3s 2ms/step - loss: 1.9243 - accuracy: 0.3061 - val_loss: 1.9213 - val_accuracy: 0.3070\n",
            "Epoch 9/25\n",
            "1600/1600 [==============================] - 4s 2ms/step - loss: 1.9028 - accuracy: 0.3111 - val_loss: 1.9022 - val_accuracy: 0.3120\n",
            "Epoch 10/25\n",
            "1600/1600 [==============================] - 3s 2ms/step - loss: 1.8840 - accuracy: 0.3165 - val_loss: 1.8854 - val_accuracy: 0.3167\n",
            "Epoch 11/25\n",
            "1600/1600 [==============================] - 3s 2ms/step - loss: 1.8666 - accuracy: 0.3219 - val_loss: 1.8694 - val_accuracy: 0.3204\n",
            "Epoch 12/25\n",
            "1600/1600 [==============================] - 3s 2ms/step - loss: 1.8514 - accuracy: 0.3258 - val_loss: 1.8546 - val_accuracy: 0.3255\n",
            "Epoch 13/25\n",
            "1600/1600 [==============================] - 4s 2ms/step - loss: 1.8374 - accuracy: 0.3297 - val_loss: 1.8407 - val_accuracy: 0.3299\n",
            "Epoch 14/25\n",
            "1600/1600 [==============================] - 4s 2ms/step - loss: 1.8237 - accuracy: 0.3346 - val_loss: 1.8276 - val_accuracy: 0.3338\n",
            "Epoch 15/25\n",
            "1600/1600 [==============================] - 3s 2ms/step - loss: 1.8089 - accuracy: 0.3437 - val_loss: 1.8127 - val_accuracy: 0.3480\n",
            "Epoch 16/25\n",
            "1600/1600 [==============================] - 3s 2ms/step - loss: 1.7901 - accuracy: 0.3589 - val_loss: 1.7893 - val_accuracy: 0.3647\n",
            "Epoch 17/25\n",
            "1600/1600 [==============================] - 3s 2ms/step - loss: 1.7576 - accuracy: 0.3787 - val_loss: 1.7512 - val_accuracy: 0.3839\n",
            "Epoch 18/25\n",
            "1600/1600 [==============================] - 3s 2ms/step - loss: 1.7241 - accuracy: 0.3911 - val_loss: 1.7258 - val_accuracy: 0.3909\n",
            "Epoch 19/25\n",
            "1600/1600 [==============================] - 3s 2ms/step - loss: 1.7037 - accuracy: 0.3969 - val_loss: 1.7100 - val_accuracy: 0.3951\n",
            "Epoch 20/25\n",
            "1600/1600 [==============================] - 3s 2ms/step - loss: 1.6896 - accuracy: 0.4002 - val_loss: 1.6981 - val_accuracy: 0.3990\n",
            "Epoch 21/25\n",
            "1600/1600 [==============================] - 3s 2ms/step - loss: 1.6786 - accuracy: 0.4032 - val_loss: 1.6884 - val_accuracy: 0.4004\n",
            "Epoch 22/25\n",
            "1600/1600 [==============================] - 3s 2ms/step - loss: 1.6690 - accuracy: 0.4050 - val_loss: 1.6801 - val_accuracy: 0.4022\n",
            "Epoch 23/25\n",
            "1600/1600 [==============================] - 3s 2ms/step - loss: 1.6606 - accuracy: 0.4068 - val_loss: 1.6725 - val_accuracy: 0.4052\n",
            "Epoch 24/25\n",
            "1600/1600 [==============================] - 3s 2ms/step - loss: 1.6524 - accuracy: 0.4094 - val_loss: 1.6653 - val_accuracy: 0.4072\n",
            "Epoch 25/25\n",
            "1600/1600 [==============================] - 3s 2ms/step - loss: 1.6448 - accuracy: 0.4117 - val_loss: 1.6584 - val_accuracy: 0.4098\n"
          ],
          "name": "stdout"
        }
      ]
    },
    {
      "cell_type": "code",
      "metadata": {
        "id": "MIbus_2XheeY",
        "colab_type": "code",
        "colab": {
          "base_uri": "https://localhost:8080/",
          "height": 867
        },
        "outputId": "1fdeae0f-03d4-4062-ffb6-f6b9dd5310ee"
      },
      "source": [
        "model_50 = create_model(lr=.001, opt=Adam)\n",
        "bt_default = model_50.fit(X_train, y_train, \n",
        "                                epochs=25, \n",
        "                                batch_size=50, \n",
        "                                validation_data=(X_test, y_test))"
      ],
      "execution_count": null,
      "outputs": [
        {
          "output_type": "stream",
          "text": [
            "Epoch 1/25\n",
            "1600/1600 [==============================] - 4s 2ms/step - loss: 2.1651 - accuracy: 0.3979 - val_loss: 1.4570 - val_accuracy: 0.5014\n",
            "Epoch 2/25\n",
            "1600/1600 [==============================] - 3s 2ms/step - loss: 1.3231 - accuracy: 0.5468 - val_loss: 1.2242 - val_accuracy: 0.5734\n",
            "Epoch 3/25\n",
            "1600/1600 [==============================] - 4s 3ms/step - loss: 1.1909 - accuracy: 0.6027 - val_loss: 1.1466 - val_accuracy: 0.6155\n",
            "Epoch 4/25\n",
            "1600/1600 [==============================] - 4s 2ms/step - loss: 1.1116 - accuracy: 0.6341 - val_loss: 1.0675 - val_accuracy: 0.6439\n",
            "Epoch 5/25\n",
            "1600/1600 [==============================] - 4s 2ms/step - loss: 1.0590 - accuracy: 0.6501 - val_loss: 1.0460 - val_accuracy: 0.6644\n",
            "Epoch 6/25\n",
            "1600/1600 [==============================] - 4s 2ms/step - loss: 1.0366 - accuracy: 0.6591 - val_loss: 1.0467 - val_accuracy: 0.6518\n",
            "Epoch 7/25\n",
            "1600/1600 [==============================] - 3s 2ms/step - loss: 1.0083 - accuracy: 0.6680 - val_loss: 1.0364 - val_accuracy: 0.6506\n",
            "Epoch 8/25\n",
            "1600/1600 [==============================] - 3s 2ms/step - loss: 0.9967 - accuracy: 0.6739 - val_loss: 1.0697 - val_accuracy: 0.6729\n",
            "Epoch 9/25\n",
            "1600/1600 [==============================] - 3s 2ms/step - loss: 0.9717 - accuracy: 0.6838 - val_loss: 0.9923 - val_accuracy: 0.6916\n",
            "Epoch 10/25\n",
            "1600/1600 [==============================] - 3s 2ms/step - loss: 0.9685 - accuracy: 0.6826 - val_loss: 0.9764 - val_accuracy: 0.6866\n",
            "Epoch 11/25\n",
            "1600/1600 [==============================] - 3s 2ms/step - loss: 0.9606 - accuracy: 0.6855 - val_loss: 0.9677 - val_accuracy: 0.6901\n",
            "Epoch 12/25\n",
            "1600/1600 [==============================] - 3s 2ms/step - loss: 0.9417 - accuracy: 0.6920 - val_loss: 0.9703 - val_accuracy: 0.6864\n",
            "Epoch 13/25\n",
            "1600/1600 [==============================] - 3s 2ms/step - loss: 0.9447 - accuracy: 0.6934 - val_loss: 0.9736 - val_accuracy: 0.6835\n",
            "Epoch 14/25\n",
            "1600/1600 [==============================] - 4s 2ms/step - loss: 0.9344 - accuracy: 0.6930 - val_loss: 0.9720 - val_accuracy: 0.6841\n",
            "Epoch 15/25\n",
            "1600/1600 [==============================] - 4s 2ms/step - loss: 0.9360 - accuracy: 0.6932 - val_loss: 0.9790 - val_accuracy: 0.6869\n",
            "Epoch 16/25\n",
            "1600/1600 [==============================] - 4s 2ms/step - loss: 0.9137 - accuracy: 0.7056 - val_loss: 1.0072 - val_accuracy: 0.6844\n",
            "Epoch 17/25\n",
            "1600/1600 [==============================] - 4s 2ms/step - loss: 0.9104 - accuracy: 0.7067 - val_loss: 0.9477 - val_accuracy: 0.7007\n",
            "Epoch 18/25\n",
            "1600/1600 [==============================] - 4s 2ms/step - loss: 0.9056 - accuracy: 0.7057 - val_loss: 0.9538 - val_accuracy: 0.6931\n",
            "Epoch 19/25\n",
            "1600/1600 [==============================] - 3s 2ms/step - loss: 0.8892 - accuracy: 0.7124 - val_loss: 0.9178 - val_accuracy: 0.7082\n",
            "Epoch 20/25\n",
            "1600/1600 [==============================] - 3s 2ms/step - loss: 0.8828 - accuracy: 0.7129 - val_loss: 0.9267 - val_accuracy: 0.7081\n",
            "Epoch 21/25\n",
            "1600/1600 [==============================] - 4s 2ms/step - loss: 0.8750 - accuracy: 0.7193 - val_loss: 0.9064 - val_accuracy: 0.7096\n",
            "Epoch 22/25\n",
            "1600/1600 [==============================] - 3s 2ms/step - loss: 0.8666 - accuracy: 0.7235 - val_loss: 0.8890 - val_accuracy: 0.7228\n",
            "Epoch 23/25\n",
            "1600/1600 [==============================] - 3s 2ms/step - loss: 0.8591 - accuracy: 0.7251 - val_loss: 0.8998 - val_accuracy: 0.7132\n",
            "Epoch 24/25\n",
            "1600/1600 [==============================] - 3s 2ms/step - loss: 0.8524 - accuracy: 0.7232 - val_loss: 0.8915 - val_accuracy: 0.7110\n",
            "Epoch 25/25\n",
            "1600/1600 [==============================] - 3s 2ms/step - loss: 0.8405 - accuracy: 0.7304 - val_loss: 0.8682 - val_accuracy: 0.7316\n"
          ],
          "name": "stdout"
        }
      ]
    },
    {
      "cell_type": "code",
      "metadata": {
        "id": "uTYZvHkkhkiK",
        "colab_type": "code",
        "colab": {
          "base_uri": "https://localhost:8080/",
          "height": 867
        },
        "outputId": "df463a4e-b4f0-419f-ea1c-fd5daf8973ed"
      },
      "source": [
        "model_50 = create_model(lr=.001, opt=SGD)\n",
        "bt_default = model_50.fit(X_train, y_train, \n",
        "                                epochs=25, \n",
        "                                batch_size=50, \n",
        "                                validation_data=(X_test, y_test))"
      ],
      "execution_count": null,
      "outputs": [
        {
          "output_type": "stream",
          "text": [
            "Epoch 1/25\n",
            "1600/1600 [==============================] - 3s 2ms/step - loss: 2.3812 - accuracy: 0.1977 - val_loss: 2.0579 - val_accuracy: 0.2281\n",
            "Epoch 2/25\n",
            "1600/1600 [==============================] - 3s 2ms/step - loss: 1.8727 - accuracy: 0.3256 - val_loss: 1.7038 - val_accuracy: 0.3995\n",
            "Epoch 3/25\n",
            "1600/1600 [==============================] - 3s 2ms/step - loss: 1.5702 - accuracy: 0.4378 - val_loss: 1.4409 - val_accuracy: 0.5246\n",
            "Epoch 4/25\n",
            "1600/1600 [==============================] - 3s 2ms/step - loss: 1.3592 - accuracy: 0.5551 - val_loss: 1.3017 - val_accuracy: 0.5837\n",
            "Epoch 5/25\n",
            "1600/1600 [==============================] - 3s 2ms/step - loss: 1.2521 - accuracy: 0.5876 - val_loss: 1.2181 - val_accuracy: 0.5799\n",
            "Epoch 6/25\n",
            "1600/1600 [==============================] - 3s 2ms/step - loss: 1.1741 - accuracy: 0.5983 - val_loss: 1.1836 - val_accuracy: 0.6049\n",
            "Epoch 7/25\n",
            "1600/1600 [==============================] - 3s 2ms/step - loss: 1.1018 - accuracy: 0.6155 - val_loss: 1.0727 - val_accuracy: 0.6386\n",
            "Epoch 8/25\n",
            "1600/1600 [==============================] - 3s 2ms/step - loss: 1.0312 - accuracy: 0.6539 - val_loss: 1.0217 - val_accuracy: 0.6665\n",
            "Epoch 9/25\n",
            "1600/1600 [==============================] - 3s 2ms/step - loss: 0.9842 - accuracy: 0.6745 - val_loss: 0.9964 - val_accuracy: 0.6666\n",
            "Epoch 10/25\n",
            "1600/1600 [==============================] - 3s 2ms/step - loss: 0.9518 - accuracy: 0.6876 - val_loss: 0.9711 - val_accuracy: 0.6829\n",
            "Epoch 11/25\n",
            "1600/1600 [==============================] - 3s 2ms/step - loss: 0.9291 - accuracy: 0.6945 - val_loss: 0.9546 - val_accuracy: 0.6932\n",
            "Epoch 12/25\n",
            "1600/1600 [==============================] - 3s 2ms/step - loss: 0.9107 - accuracy: 0.7015 - val_loss: 0.9683 - val_accuracy: 0.7045\n",
            "Epoch 13/25\n",
            "1600/1600 [==============================] - 3s 2ms/step - loss: 0.8937 - accuracy: 0.7150 - val_loss: 0.9216 - val_accuracy: 0.7174\n",
            "Epoch 14/25\n",
            "1600/1600 [==============================] - 3s 2ms/step - loss: 0.8794 - accuracy: 0.7203 - val_loss: 0.9128 - val_accuracy: 0.7198\n",
            "Epoch 15/25\n",
            "1600/1600 [==============================] - 3s 2ms/step - loss: 0.8684 - accuracy: 0.7253 - val_loss: 0.9140 - val_accuracy: 0.7201\n",
            "Epoch 16/25\n",
            "1600/1600 [==============================] - 3s 2ms/step - loss: 0.8575 - accuracy: 0.7293 - val_loss: 0.9007 - val_accuracy: 0.7229\n",
            "Epoch 17/25\n",
            "1600/1600 [==============================] - 3s 2ms/step - loss: 0.8475 - accuracy: 0.7326 - val_loss: 0.9052 - val_accuracy: 0.7244\n",
            "Epoch 18/25\n",
            "1600/1600 [==============================] - 3s 2ms/step - loss: 0.8386 - accuracy: 0.7366 - val_loss: 0.8758 - val_accuracy: 0.7333\n",
            "Epoch 19/25\n",
            "1600/1600 [==============================] - 3s 2ms/step - loss: 0.8303 - accuracy: 0.7395 - val_loss: 0.8793 - val_accuracy: 0.7349\n",
            "Epoch 20/25\n",
            "1600/1600 [==============================] - 3s 2ms/step - loss: 0.8225 - accuracy: 0.7428 - val_loss: 0.8676 - val_accuracy: 0.7356\n",
            "Epoch 21/25\n",
            "1600/1600 [==============================] - 3s 2ms/step - loss: 0.8152 - accuracy: 0.7456 - val_loss: 0.8650 - val_accuracy: 0.7405\n",
            "Epoch 22/25\n",
            "1600/1600 [==============================] - 3s 2ms/step - loss: 0.8073 - accuracy: 0.7489 - val_loss: 0.8543 - val_accuracy: 0.7442\n",
            "Epoch 23/25\n",
            "1600/1600 [==============================] - 3s 2ms/step - loss: 0.7994 - accuracy: 0.7530 - val_loss: 0.8483 - val_accuracy: 0.7442\n",
            "Epoch 24/25\n",
            "1600/1600 [==============================] - 3s 2ms/step - loss: 0.7916 - accuracy: 0.7553 - val_loss: 0.8383 - val_accuracy: 0.7466\n",
            "Epoch 25/25\n",
            "1600/1600 [==============================] - 3s 2ms/step - loss: 0.7838 - accuracy: 0.7570 - val_loss: 0.8318 - val_accuracy: 0.7521\n"
          ],
          "name": "stdout"
        }
      ]
    },
    {
      "cell_type": "markdown",
      "metadata": {
        "id": "cveqNp_lmrmy",
        "colab_type": "text"
      },
      "source": [
        "#Best model\n",
        "Learning rate of **0.001**\n",
        "\n",
        "Batch size of **50**\n",
        "\n",
        "**RMSprop** Optimizer\n",
        "\n",
        "Has a validation accuracy of around **0.80** which beats baseline of **0.10** by miles "
      ]
    },
    {
      "cell_type": "markdown",
      "metadata": {
        "id": "ydAqeY9S8uHA",
        "colab_type": "text"
      },
      "source": [
        "### Additional Written Tasks\n",
        "\n",
        "1. Describe the process of backpropagation in your own words: \n",
        "```\n",
        "At the end of each itiration or epoch there is an algorithm (backpropagation) \n",
        "that defines what the next weight will be in the equation to keep improving\n",
        " the results through each epoch.\n",
        "\n",
        "```\n",
        "\n"
      ]
    },
    {
      "cell_type": "markdown",
      "metadata": {
        "colab_type": "text",
        "id": "FwlRJSfBlCvy"
      },
      "source": [
        "## Stretch Goals: \n",
        "\n",
        "- Implement GridSearch on anyone of the experiments\n",
        "- On the learning rate experiments, implement [EarlyStopping](https://www.tensorflow.org/api_docs/python/tf/keras/callbacks/EarlyStopping)\n",
        "- Review material on the math behind gradient descent: \n",
        "\n",
        "  - Gradient Descent\n",
        "    - Gradient Descent, Step-by-Step  by StatQuest w/ Josh Starmer. This will help you understand the gradient descent based optimization that happens underneath the hood of neural networks. It uses a non-neural network example, which I believe is a gentler introduction. You will hear me refer to this technique as \"vanilla\" gradient descent. \n",
        "    - Stochastic Gradient Descent, Clearly Explained!!! by StatQuest w/ Josh Starmer. This builds on the techniques in the previous video.  This technique is the one that is actually implemented inside modern 'nets. \n",
        "These are great resources to help you understand tomorrow's material at a deeper level. I highly recommend watching these ahead of tomorrow.\n",
        "\n",
        "  - Background Math\n",
        "    - Dot products and duality by 3Blue1Brown. Explains the core linear algebra operation happening in today's perceptron.\n",
        "The paradox of the derivative by 3Blue1Brown. Does a great job explaining a derivative. \n",
        "    - Visualizing the chain rule and product rule by 3Blue1Brown. Explains the black magic that happens within Stochastic Gradient Descent. \n",
        "These math resources are very much optional. They can be very heady, but I encourage you to explore. Your understanding of neural networks will greatly increase if you understand this math background.\n",
        "\n",
        "\n"
      ]
    }
  ]
}