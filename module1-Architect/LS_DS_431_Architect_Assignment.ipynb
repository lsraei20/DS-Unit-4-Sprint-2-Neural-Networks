{
  "nbformat": 4,
  "nbformat_minor": 0,
  "metadata": {
    "colab": {
      "name": "Copia de LS_DS_432_TensorFlow_Assignment",
      "provenance": [],
      "collapsed_sections": [],
      "include_colab_link": true
    },
    "kernelspec": {
      "name": "python3",
      "display_name": "Python 3"
    },
    "accelerator": "GPU"
  },
  "cells": [
    {
      "cell_type": "markdown",
      "metadata": {
        "id": "view-in-github",
        "colab_type": "text"
      },
      "source": [
        "<a href=\"https://colab.research.google.com/github/lsraei20/DS-Unit-4-Sprint-2-Neural-Networks/blob/main/module1-Architect/LS_DS_431_Architect_Assignment.ipynb\" target=\"_parent\"><img src=\"https://colab.research.google.com/assets/colab-badge.svg\" alt=\"Open In Colab\"/></a>"
      ]
    },
    {
      "cell_type": "markdown",
      "metadata": {
        "id": "ObyHCH8HvHSf",
        "colab_type": "text"
      },
      "source": [
        "<img align=\"left\" src=\"https://lever-client-logos.s3.amazonaws.com/864372b1-534c-480e-acd5-9711f850815c-1524247202159.png\" width=200>\n",
        "<br></br>\n",
        "<br></br>\n",
        "\n",
        "# *Data Science Unit 4 Sprint 2 Assignment 1*\n",
        "\n",
        "Use TensorFlow Keras & a sample of the [Quickdraw dataset](https://github.com/googlecreativelab/quickdraw-dataset) to build a sketch classification model. The dataset has been sampled to only 10 classes and 10000 observations per class. Please build a baseline classification model then run a few experiments with different optimizers and learning rates. \n",
        "\n",
        "*Don't forgot to switch to GPU on Colab!*"
      ]
    },
    {
      "cell_type": "markdown",
      "metadata": {
        "id": "s-Tc3ovEyQ9b",
        "colab_type": "text"
      },
      "source": [
        "## Load Your Data"
      ]
    },
    {
      "cell_type": "code",
      "metadata": {
        "id": "CkU0pAYCvU8o",
        "colab_type": "code",
        "colab": {
          "base_uri": "https://localhost:8080/",
          "height": 51
        },
        "outputId": "4b5c3e97-94ff-4b0a-db8d-e4c5a622076b"
      },
      "source": [
        "import numpy as np\n",
        "import tensorflow as tf \n",
        "\n",
        "data = np.load('/content/quickdraw10.npz')\n",
        "X = data['arr_0']\n",
        "y = data['arr_1']\n",
        "\n",
        "print(X.shape)\n",
        "print(y.shape)"
      ],
      "execution_count": null,
      "outputs": [
        {
          "output_type": "stream",
          "text": [
            "(100000, 784)\n",
            "(100000,)\n"
          ],
          "name": "stdout"
        }
      ]
    },
    {
      "cell_type": "code",
      "metadata": {
        "id": "c8qsDqdqvHDd",
        "colab_type": "code",
        "colab": {}
      },
      "source": [
        "class_names = ['apple',\n",
        " 'anvil',\n",
        " 'airplane',\n",
        " 'banana',\n",
        " 'The Eiffel Tower',\n",
        " 'The Mona Lisa',\n",
        " 'The Great Wall of China',\n",
        " 'alarm clock',\n",
        " 'ant',\n",
        " 'asparagus']"
      ],
      "execution_count": null,
      "outputs": []
    },
    {
      "cell_type": "code",
      "metadata": {
        "id": "KCCglp6g2gmb",
        "colab_type": "code",
        "colab": {
          "base_uri": "https://localhost:8080/",
          "height": 122
        },
        "outputId": "e496c143-db8b-4083-c06e-a6e12bd2e19f"
      },
      "source": [
        "from google.colab import drive\n",
        "drive.mount('/content/drive')"
      ],
      "execution_count": null,
      "outputs": [
        {
          "output_type": "stream",
          "text": [
            "Go to this URL in a browser: https://accounts.google.com/o/oauth2/auth?client_id=947318989803-6bn6qk8qdgf4n4g3pfee6491hc0brc4i.apps.googleusercontent.com&redirect_uri=urn%3aietf%3awg%3aoauth%3a2.0%3aoob&scope=email%20https%3a%2f%2fwww.googleapis.com%2fauth%2fdocs.test%20https%3a%2f%2fwww.googleapis.com%2fauth%2fdrive%20https%3a%2f%2fwww.googleapis.com%2fauth%2fdrive.photos.readonly%20https%3a%2f%2fwww.googleapis.com%2fauth%2fpeopleapi.readonly&response_type=code\n",
            "\n",
            "Enter your authorization code:\n",
            "4/3wGQhKsasMuE4F2VRuEsNTY0MQJKeLGuxEaKtFkmpnKzS32VJChU9HQ\n",
            "Mounted at /content/drive\n"
          ],
          "name": "stdout"
        }
      ]
    },
    {
      "cell_type": "code",
      "metadata": {
        "id": "Owbm1EbxvA5A",
        "colab_type": "code",
        "colab": {
          "base_uri": "https://localhost:8080/",
          "height": 289
        },
        "outputId": "32f404fa-1068-493f-9b33-18863ecbafcf"
      },
      "source": [
        "import matplotlib.pyplot as plt\n",
        "plt.figure(figsize=(10,5))\n",
        "start = 0\n",
        "\n",
        "for num, name in enumerate(class_names):\n",
        "    plt.subplot(2,5, num+1)\n",
        "    plt.xticks([])\n",
        "    plt.yticks([])\n",
        "    plt.grid(False)\n",
        "    plt.imshow(X[start].reshape(28,28), cmap=plt.cm.binary)\n",
        "    plt.xlabel(name)\n",
        "    start += 10000\n",
        "plt.show()"
      ],
      "execution_count": null,
      "outputs": [
        {
          "output_type": "display_data",
          "data": {
            "image/png": "[encoded data removed]",
            "text/plain": [
              "<Figure size 720x360 with 10 Axes>"
            ]
          },
          "metadata": {
            "tags": []
          }
        }
      ]
    },
    {
      "cell_type": "code",
      "metadata": {
        "id": "c97_M1WNvTNY",
        "colab_type": "code",
        "colab": {}
      },
      "source": [
        "# Need this line to randomly shuffle both the X & y at the same time.\n",
        "\n",
        "from sklearn.utils import shuffle\n",
        "X, y = shuffle(X, y)"
      ],
      "execution_count": null,
      "outputs": []
    },
    {
      "cell_type": "markdown",
      "metadata": {
        "id": "jb70CbLVyK65",
        "colab_type": "text"
      },
      "source": [
        "## Build Your Baseline Model\n",
        "Some Hints:\n",
        "\n",
        "\n",
        "*  Model should have 784 input values (like mnist)\n",
        "*  Use `sparse_categorical_crossentropy` as your loss function.\n",
        "* You need 10 neurons in your last layer for output\n",
        "* You can add as many hidden layers with as many neurons in them as you like. \n",
        "* Limit your model epochs to 30 each time you fit.\n",
        "* You can use the `validation_split` command to automatically create a training / validation dataset.  Specify a percentage such as .2 in your fit statement. \n",
        "\n"
      ]
    },
    {
      "cell_type": "code",
      "metadata": {
        "id": "zHWblzsMyNkU",
        "colab_type": "code",
        "colab": {}
      },
      "source": [
        "import tensorflow as tf\n",
        "from tensorflow.keras import Sequential\n",
        "from tensorflow.keras.layers import Dense\n"
      ],
      "execution_count": null,
      "outputs": []
    },
    {
      "cell_type": "code",
      "metadata": {
        "id": "HdvesbQF9sbp",
        "colab_type": "code",
        "colab": {}
      },
      "source": [
        "# instantiate the model\n",
        "model = Sequential()"
      ],
      "execution_count": null,
      "outputs": []
    },
    {
      "cell_type": "code",
      "metadata": {
        "id": "Bu_r91n8-mhc",
        "colab_type": "code",
        "colab": {}
      },
      "source": [
        "# define input of model\n",
        "model.add(\n",
        "    Dense(30, activation='relu', input_dim=784)\n",
        ")"
      ],
      "execution_count": null,
      "outputs": []
    },
    {
      "cell_type": "code",
      "metadata": {
        "id": "OvLKWBPQAjY9",
        "colab_type": "code",
        "colab": {}
      },
      "source": [
        "# define outpute of model\n",
        "model.add(\n",
        "    Dense(10, activation='softmax')\n",
        ")"
      ],
      "execution_count": null,
      "outputs": []
    },
    {
      "cell_type": "code",
      "metadata": {
        "id": "DUOrnOq5BRwi",
        "colab_type": "code",
        "colab": {
          "base_uri": "https://localhost:8080/",
          "height": 221
        },
        "outputId": "06d6eb80-a4bd-48df-f33c-beab61df3f8d"
      },
      "source": [
        "# see the summary of the model \n",
        "model.summary()"
      ],
      "execution_count": null,
      "outputs": [
        {
          "output_type": "stream",
          "text": [
            "Model: \"sequential_2\"\n",
            "_________________________________________________________________\n",
            "Layer (type)                 Output Shape              Param #   \n",
            "=================================================================\n",
            "dense_5 (Dense)              (None, 30)                23550     \n",
            "_________________________________________________________________\n",
            "dense_6 (Dense)              (None, 10)                310       \n",
            "=================================================================\n",
            "Total params: 23,860\n",
            "Trainable params: 23,860\n",
            "Non-trainable params: 0\n",
            "_________________________________________________________________\n"
          ],
          "name": "stdout"
        }
      ]
    },
    {
      "cell_type": "code",
      "metadata": {
        "id": "g5kxhfa3B8mr",
        "colab_type": "code",
        "colab": {}
      },
      "source": [
        "# compile the model \n",
        "model.compile(optimizer= 'sgd', loss='sparse_categorical_crossentropy', metrics=['accuracy'])"
      ],
      "execution_count": null,
      "outputs": []
    },
    {
      "cell_type": "code",
      "metadata": {
        "id": "EodFTsoFCeMB",
        "colab_type": "code",
        "colab": {
          "base_uri": "https://localhost:8080/",
          "height": 1000
        },
        "outputId": "0aa93b0c-4aad-41f5-b900-f3c6a72ef560"
      },
      "source": [
        "# fit the model \n",
        "baseline = model.fit(X, y, epochs=30, validation_split= .2)"
      ],
      "execution_count": null,
      "outputs": [
        {
          "output_type": "stream",
          "text": [
            "Epoch 1/30\n",
            "2500/2500 [==============================] - 5s 2ms/step - loss: 2.2606 - accuracy: 0.1299 - val_loss: 2.3573 - val_accuracy: 0.1318\n",
            "Epoch 2/30\n",
            "2500/2500 [==============================] - 5s 2ms/step - loss: 2.2380 - accuracy: 0.1319 - val_loss: 2.2941 - val_accuracy: 0.1234\n",
            "Epoch 3/30\n",
            "2500/2500 [==============================] - 5s 2ms/step - loss: 2.2368 - accuracy: 0.1313 - val_loss: 2.2735 - val_accuracy: 0.1340\n",
            "Epoch 4/30\n",
            "2500/2500 [==============================] - 5s 2ms/step - loss: 2.2252 - accuracy: 0.1364 - val_loss: 2.2365 - val_accuracy: 0.1364\n",
            "Epoch 5/30\n",
            "2500/2500 [==============================] - 5s 2ms/step - loss: 2.2369 - accuracy: 0.1327 - val_loss: 2.2596 - val_accuracy: 0.1316\n",
            "Epoch 6/30\n",
            "2500/2500 [==============================] - 5s 2ms/step - loss: 2.2469 - accuracy: 0.1315 - val_loss: 2.2775 - val_accuracy: 0.1299\n",
            "Epoch 7/30\n",
            "2500/2500 [==============================] - 5s 2ms/step - loss: 2.2467 - accuracy: 0.1283 - val_loss: 2.3150 - val_accuracy: 0.1330\n",
            "Epoch 8/30\n",
            "2500/2500 [==============================] - 5s 2ms/step - loss: 2.2407 - accuracy: 0.1374 - val_loss: 2.2638 - val_accuracy: 0.1199\n",
            "Epoch 9/30\n",
            "2500/2500 [==============================] - 5s 2ms/step - loss: 2.2274 - accuracy: 0.1383 - val_loss: 2.2955 - val_accuracy: 0.1483\n",
            "Epoch 10/30\n",
            "2500/2500 [==============================] - 5s 2ms/step - loss: 2.1770 - accuracy: 0.1644 - val_loss: 2.3532 - val_accuracy: 0.1703\n",
            "Epoch 11/30\n",
            "2500/2500 [==============================] - 5s 2ms/step - loss: 2.1799 - accuracy: 0.1708 - val_loss: 2.2076 - val_accuracy: 0.1635\n",
            "Epoch 12/30\n",
            "2500/2500 [==============================] - 5s 2ms/step - loss: 2.1287 - accuracy: 0.1746 - val_loss: 2.2633 - val_accuracy: 0.1949\n",
            "Epoch 13/30\n",
            "2500/2500 [==============================] - 5s 2ms/step - loss: 2.1669 - accuracy: 0.1704 - val_loss: 2.3092 - val_accuracy: 0.1724\n",
            "Epoch 14/30\n",
            "2500/2500 [==============================] - 5s 2ms/step - loss: 2.1467 - accuracy: 0.1655 - val_loss: 2.2593 - val_accuracy: 0.1543\n",
            "Epoch 15/30\n",
            "2500/2500 [==============================] - 5s 2ms/step - loss: 2.1646 - accuracy: 0.1632 - val_loss: 2.2654 - val_accuracy: 0.1667\n",
            "Epoch 16/30\n",
            "2500/2500 [==============================] - 5s 2ms/step - loss: 2.1833 - accuracy: 0.1673 - val_loss: 2.4010 - val_accuracy: 0.1531\n",
            "Epoch 17/30\n",
            "2500/2500 [==============================] - 5s 2ms/step - loss: 2.1739 - accuracy: 0.1697 - val_loss: 2.2409 - val_accuracy: 0.1756\n",
            "Epoch 18/30\n",
            "2500/2500 [==============================] - 5s 2ms/step - loss: 2.1787 - accuracy: 0.1566 - val_loss: 2.3159 - val_accuracy: 0.1555\n",
            "Epoch 19/30\n",
            "2500/2500 [==============================] - 5s 2ms/step - loss: 2.1628 - accuracy: 0.1623 - val_loss: 2.2570 - val_accuracy: 0.1541\n",
            "Epoch 20/30\n",
            "2500/2500 [==============================] - 5s 2ms/step - loss: 2.1471 - accuracy: 0.1682 - val_loss: 2.3504 - val_accuracy: 0.1707\n",
            "Epoch 21/30\n",
            "2500/2500 [==============================] - 5s 2ms/step - loss: 2.1349 - accuracy: 0.1780 - val_loss: 2.2909 - val_accuracy: 0.1776\n",
            "Epoch 22/30\n",
            "2500/2500 [==============================] - 5s 2ms/step - loss: 2.1579 - accuracy: 0.1740 - val_loss: 2.2112 - val_accuracy: 0.1749\n",
            "Epoch 23/30\n",
            "2500/2500 [==============================] - 5s 2ms/step - loss: 2.1122 - accuracy: 0.1833 - val_loss: 2.2392 - val_accuracy: 0.1768\n",
            "Epoch 24/30\n",
            "2500/2500 [==============================] - 5s 2ms/step - loss: 2.1469 - accuracy: 0.1734 - val_loss: 2.4039 - val_accuracy: 0.1602\n",
            "Epoch 25/30\n",
            "2500/2500 [==============================] - 5s 2ms/step - loss: 2.1317 - accuracy: 0.1766 - val_loss: 2.2540 - val_accuracy: 0.1723\n",
            "Epoch 26/30\n",
            "2500/2500 [==============================] - 5s 2ms/step - loss: 2.0991 - accuracy: 0.1842 - val_loss: 2.2455 - val_accuracy: 0.1866\n",
            "Epoch 27/30\n",
            "2500/2500 [==============================] - 5s 2ms/step - loss: 2.0936 - accuracy: 0.1874 - val_loss: 2.2171 - val_accuracy: 0.1917\n",
            "Epoch 28/30\n",
            "2500/2500 [==============================] - 5s 2ms/step - loss: 2.1066 - accuracy: 0.1829 - val_loss: 2.2369 - val_accuracy: 0.1704\n",
            "Epoch 29/30\n",
            "2500/2500 [==============================] - 5s 2ms/step - loss: 2.1471 - accuracy: 0.1682 - val_loss: 2.3157 - val_accuracy: 0.1342\n",
            "Epoch 30/30\n",
            "2500/2500 [==============================] - 5s 2ms/step - loss: 2.1571 - accuracy: 0.1656 - val_loss: 2.2479 - val_accuracy: 0.1787\n"
          ],
          "name": "stdout"
        }
      ]
    },
    {
      "cell_type": "markdown",
      "metadata": {
        "id": "b0QJURWh-9uv",
        "colab_type": "text"
      },
      "source": [
        "### Visualize the results\n",
        "\n",
        "Create charts for both loss and accuracy by epoch. Use line graphs for both charts. Analyze the results. \n",
        "\n",
        "At what point should we have stopped training the model and why? "
      ]
    },
    {
      "cell_type": "code",
      "metadata": {
        "id": "KONJtU5wqlXf",
        "colab_type": "code",
        "colab": {
          "base_uri": "https://localhost:8080/",
          "height": 1000
        },
        "outputId": "6e2b48f8-5145-401f-dc69-073d1924351b"
      },
      "source": [
        "baseline.history"
      ],
      "execution_count": null,
      "outputs": [
        {
          "output_type": "execute_result",
          "data": {
            "text/plain": [
              "{'accuracy': [0.12986250221729279,\n",
              "  0.13193750381469727,\n",
              "  0.1312749981880188,\n",
              "  0.1363999992609024,\n",
              "  0.13272500038146973,\n",
              "  0.13148750364780426,\n",
              "  0.12827500700950623,\n",
              "  0.13737499713897705,\n",
              "  0.1383499950170517,\n",
              "  0.1643500030040741,\n",
              "  0.17083750665187836,\n",
              "  0.17464999854564667,\n",
              "  0.17041249573230743,\n",
              "  0.1655000001192093,\n",
              "  0.163224995136261,\n",
              "  0.16731250286102295,\n",
              "  0.16967499256134033,\n",
              "  0.15661250054836273,\n",
              "  0.16226249933242798,\n",
              "  0.16818749904632568,\n",
              "  0.1779875010251999,\n",
              "  0.17396250367164612,\n",
              "  0.18328750133514404,\n",
              "  0.17342500388622284,\n",
              "  0.17659999430179596,\n",
              "  0.18416249752044678,\n",
              "  0.18738749623298645,\n",
              "  0.18287500739097595,\n",
              "  0.1681624948978424,\n",
              "  0.1655624955892563],\n",
              " 'loss': [2.260638475418091,\n",
              "  2.237957715988159,\n",
              "  2.2368104457855225,\n",
              "  2.2251992225646973,\n",
              "  2.2369375228881836,\n",
              "  2.246943712234497,\n",
              "  2.246689558029175,\n",
              "  2.2407429218292236,\n",
              "  2.2274041175842285,\n",
              "  2.177011251449585,\n",
              "  2.179901599884033,\n",
              "  2.128735303878784,\n",
              "  2.1668527126312256,\n",
              "  2.1466760635375977,\n",
              "  2.164642095565796,\n",
              "  2.1833384037017822,\n",
              "  2.173879623413086,\n",
              "  2.1787121295928955,\n",
              "  2.1627557277679443,\n",
              "  2.1470718383789062,\n",
              "  2.1349282264709473,\n",
              "  2.1578831672668457,\n",
              "  2.1122024059295654,\n",
              "  2.1468920707702637,\n",
              "  2.1316885948181152,\n",
              "  2.0990536212921143,\n",
              "  2.0936381816864014,\n",
              "  2.106588125228882,\n",
              "  2.1470677852630615,\n",
              "  2.157111406326294],\n",
              " 'val_accuracy': [0.13179999589920044,\n",
              "  0.1234000027179718,\n",
              "  0.13404999673366547,\n",
              "  0.13635000586509705,\n",
              "  0.1316000074148178,\n",
              "  0.12985000014305115,\n",
              "  0.13300000131130219,\n",
              "  0.11990000307559967,\n",
              "  0.14830000698566437,\n",
              "  0.17030000686645508,\n",
              "  0.16349999606609344,\n",
              "  0.19494999945163727,\n",
              "  0.17239999771118164,\n",
              "  0.15434999763965607,\n",
              "  0.1667499989271164,\n",
              "  0.1530500054359436,\n",
              "  0.17560000717639923,\n",
              "  0.15549999475479126,\n",
              "  0.15410000085830688,\n",
              "  0.17065000534057617,\n",
              "  0.17759999632835388,\n",
              "  0.17489999532699585,\n",
              "  0.17679999768733978,\n",
              "  0.1602499932050705,\n",
              "  0.17229999601840973,\n",
              "  0.18664999306201935,\n",
              "  0.19165000319480896,\n",
              "  0.17035000026226044,\n",
              "  0.13420000672340393,\n",
              "  0.17870000004768372],\n",
              " 'val_loss': [2.3572874069213867,\n",
              "  2.2940967082977295,\n",
              "  2.2735178470611572,\n",
              "  2.2365121841430664,\n",
              "  2.2596325874328613,\n",
              "  2.2774996757507324,\n",
              "  2.314986228942871,\n",
              "  2.263836145401001,\n",
              "  2.2954962253570557,\n",
              "  2.3532309532165527,\n",
              "  2.2075717449188232,\n",
              "  2.2633330821990967,\n",
              "  2.3092198371887207,\n",
              "  2.259345769882202,\n",
              "  2.2654213905334473,\n",
              "  2.401049852371216,\n",
              "  2.2408668994903564,\n",
              "  2.315903425216675,\n",
              "  2.2570431232452393,\n",
              "  2.3503973484039307,\n",
              "  2.2909421920776367,\n",
              "  2.2111804485321045,\n",
              "  2.2392139434814453,\n",
              "  2.4039018154144287,\n",
              "  2.2540066242218018,\n",
              "  2.2455496788024902,\n",
              "  2.2170674800872803,\n",
              "  2.2369461059570312,\n",
              "  2.315690279006958,\n",
              "  2.2479286193847656]}"
            ]
          },
          "metadata": {
            "tags": []
          },
          "execution_count": 49
        }
      ]
    },
    {
      "cell_type": "code",
      "metadata": {
        "id": "ijAlzfYKAFaY",
        "colab_type": "code",
        "colab": {
          "base_uri": "https://localhost:8080/",
          "height": 279
        },
        "outputId": "a150cc3c-6805-49dc-bcdf-39f7eed7ce52"
      },
      "source": [
        "import seaborn as sns\n",
        "import pandas as pd\n",
        "\n",
        "df = pd.DataFrame.from_records(baseline.history)\n",
        "df['epoch'] = [i for i in range(df.shape[0])]\n",
        "\n",
        "ax = sns.lineplot(x='epoch', y='val_loss', data=df)\n",
        "ax = sns.lineplot(x='epoch', y='loss', data=df);"
      ],
      "execution_count": null,
      "outputs": [
        {
          "output_type": "display_data",
          "data": {
            "image/png": "[encoded data removed]",
            "text/plain": [
              "<Figure size 432x288 with 1 Axes>"
            ]
          },
          "metadata": {
            "tags": [],
            "needs_background": "light"
          }
        }
      ]
    },
    {
      "cell_type": "markdown",
      "metadata": {
        "id": "MAhBrcE4yOZe",
        "colab_type": "text"
      },
      "source": [
        "## Change Optimizers\n",
        "Try using the keras `adam` optimizer instead of `sgd` in your model. Visualize the difference in validation loss between the models with different optimizers. "
      ]
    },
    {
      "cell_type": "code",
      "metadata": {
        "id": "0ZockGZNEj67",
        "colab_type": "code",
        "colab": {
          "base_uri": "https://localhost:8080/",
          "height": 1000
        },
        "outputId": "ce4da633-18ec-4b74-f8c7-270fdc6b9326"
      },
      "source": [
        "# compile the model with adam\n",
        "model.compile(optimizer= 'adam', loss='sparse_categorical_crossentropy', metrics=['accuracy'])\n",
        "\n",
        "# fit the model with adam\n",
        "adam = model.fit(X, y, epochs=30, validation_split= .2)"
      ],
      "execution_count": null,
      "outputs": [
        {
          "output_type": "stream",
          "text": [
            "Epoch 1/30\n",
            "2500/2500 [==============================] - 5s 2ms/step - loss: 2.0965 - accuracy: 0.1910 - val_loss: 2.2720 - val_accuracy: 0.1894\n",
            "Epoch 2/30\n",
            "2500/2500 [==============================] - 5s 2ms/step - loss: 2.0710 - accuracy: 0.1931 - val_loss: 2.3168 - val_accuracy: 0.1977\n",
            "Epoch 3/30\n",
            "2500/2500 [==============================] - 5s 2ms/step - loss: 2.0576 - accuracy: 0.2002 - val_loss: 2.3326 - val_accuracy: 0.2026\n",
            "Epoch 4/30\n",
            "2500/2500 [==============================] - 5s 2ms/step - loss: 2.0501 - accuracy: 0.2028 - val_loss: 2.2517 - val_accuracy: 0.2006\n",
            "Epoch 5/30\n",
            "2500/2500 [==============================] - 5s 2ms/step - loss: 2.0303 - accuracy: 0.2057 - val_loss: 2.2160 - val_accuracy: 0.2070\n",
            "Epoch 6/30\n",
            "2500/2500 [==============================] - 5s 2ms/step - loss: 2.0256 - accuracy: 0.2128 - val_loss: 2.1864 - val_accuracy: 0.2081\n",
            "Epoch 7/30\n",
            "2500/2500 [==============================] - 5s 2ms/step - loss: 2.0121 - accuracy: 0.2139 - val_loss: 2.2314 - val_accuracy: 0.2182\n",
            "Epoch 8/30\n",
            "2500/2500 [==============================] - 5s 2ms/step - loss: 2.0076 - accuracy: 0.2167 - val_loss: 2.2201 - val_accuracy: 0.2190\n",
            "Epoch 9/30\n",
            "2500/2500 [==============================] - 5s 2ms/step - loss: 2.0043 - accuracy: 0.2194 - val_loss: 2.1786 - val_accuracy: 0.2181\n",
            "Epoch 10/30\n",
            "2500/2500 [==============================] - 5s 2ms/step - loss: 1.9905 - accuracy: 0.2221 - val_loss: 2.1425 - val_accuracy: 0.2211\n",
            "Epoch 11/30\n",
            "2500/2500 [==============================] - 5s 2ms/step - loss: 1.9831 - accuracy: 0.2243 - val_loss: 2.1409 - val_accuracy: 0.2243\n",
            "Epoch 12/30\n",
            "2500/2500 [==============================] - 5s 2ms/step - loss: 1.9810 - accuracy: 0.2264 - val_loss: 2.1371 - val_accuracy: 0.2305\n",
            "Epoch 13/30\n",
            "2500/2500 [==============================] - 5s 2ms/step - loss: 1.9757 - accuracy: 0.2291 - val_loss: 2.1277 - val_accuracy: 0.2275\n",
            "Epoch 14/30\n",
            "2500/2500 [==============================] - 5s 2ms/step - loss: 1.9603 - accuracy: 0.2308 - val_loss: 2.1152 - val_accuracy: 0.2310\n",
            "Epoch 15/30\n",
            "2500/2500 [==============================] - 5s 2ms/step - loss: 1.9661 - accuracy: 0.2322 - val_loss: 2.0871 - val_accuracy: 0.2289\n",
            "Epoch 16/30\n",
            "2500/2500 [==============================] - 5s 2ms/step - loss: 1.9560 - accuracy: 0.2330 - val_loss: 2.0977 - val_accuracy: 0.2369\n",
            "Epoch 17/30\n",
            "2500/2500 [==============================] - 5s 2ms/step - loss: 1.9520 - accuracy: 0.2350 - val_loss: 2.0797 - val_accuracy: 0.2324\n",
            "Epoch 18/30\n",
            "2500/2500 [==============================] - 5s 2ms/step - loss: 1.9438 - accuracy: 0.2369 - val_loss: 2.0692 - val_accuracy: 0.2312\n",
            "Epoch 19/30\n",
            "2500/2500 [==============================] - 5s 2ms/step - loss: 1.9436 - accuracy: 0.2364 - val_loss: 2.0956 - val_accuracy: 0.2368\n",
            "Epoch 20/30\n",
            "2500/2500 [==============================] - 5s 2ms/step - loss: 1.9464 - accuracy: 0.2385 - val_loss: 2.0672 - val_accuracy: 0.2307\n",
            "Epoch 21/30\n",
            "2500/2500 [==============================] - 5s 2ms/step - loss: 1.9396 - accuracy: 0.2374 - val_loss: 2.0594 - val_accuracy: 0.2359\n",
            "Epoch 22/30\n",
            "2500/2500 [==============================] - 5s 2ms/step - loss: 1.9376 - accuracy: 0.2396 - val_loss: 2.0622 - val_accuracy: 0.2426\n",
            "Epoch 23/30\n",
            "2500/2500 [==============================] - 5s 2ms/step - loss: 1.9343 - accuracy: 0.2371 - val_loss: 2.0514 - val_accuracy: 0.2364\n",
            "Epoch 24/30\n",
            "2500/2500 [==============================] - 5s 2ms/step - loss: 1.9343 - accuracy: 0.2405 - val_loss: 2.0335 - val_accuracy: 0.2354\n",
            "Epoch 25/30\n",
            "2500/2500 [==============================] - 5s 2ms/step - loss: 1.9326 - accuracy: 0.2396 - val_loss: 2.0482 - val_accuracy: 0.2440\n",
            "Epoch 26/30\n",
            "2500/2500 [==============================] - 5s 2ms/step - loss: 1.9287 - accuracy: 0.2412 - val_loss: 2.0266 - val_accuracy: 0.2377\n",
            "Epoch 27/30\n",
            "2500/2500 [==============================] - 5s 2ms/step - loss: 1.9267 - accuracy: 0.2432 - val_loss: 2.0283 - val_accuracy: 0.2370\n",
            "Epoch 28/30\n",
            "2500/2500 [==============================] - 5s 2ms/step - loss: 1.9287 - accuracy: 0.2403 - val_loss: 2.0194 - val_accuracy: 0.2368\n",
            "Epoch 29/30\n",
            "2500/2500 [==============================] - 5s 2ms/step - loss: 1.9252 - accuracy: 0.2422 - val_loss: 2.0113 - val_accuracy: 0.2432\n",
            "Epoch 30/30\n",
            "2500/2500 [==============================] - 5s 2ms/step - loss: 1.9220 - accuracy: 0.2421 - val_loss: 2.0103 - val_accuracy: 0.2400\n"
          ],
          "name": "stdout"
        }
      ]
    },
    {
      "cell_type": "code",
      "metadata": {
        "id": "7pEx2XrZGI4o",
        "colab_type": "code",
        "colab": {
          "base_uri": "https://localhost:8080/",
          "height": 279
        },
        "outputId": "07025ce4-326b-495e-9573-e53c6255aaf2"
      },
      "source": [
        "# visualize validation loss adam (green), svg(red)\n",
        "import pandas as pd\n",
        "\n",
        "df = pd.DataFrame.from_records(adam.history)\n",
        "df['epoch'] = [i for i in range(df.shape[0])]\n",
        "\n",
        "ax = sns.lineplot(x='epoch', y='val_loss', data=df)\n",
        "ax = sns.lineplot(x='epoch', y='loss', data=df);"
      ],
      "execution_count": null,
      "outputs": [
        {
          "output_type": "display_data",
          "data": {
            "image/png": "[encoded data removed]",
            "text/plain": [
              "<Figure size 432x288 with 1 Axes>"
            ]
          },
          "metadata": {
            "tags": [],
            "needs_background": "light"
          }
        }
      ]
    },
    {
      "cell_type": "markdown",
      "metadata": {
        "id": "EJrbh3qryi4w",
        "colab_type": "text"
      },
      "source": [
        "### Additional Written Tasks:\n",
        "In this section, you will need to search for resources: \n",
        "1. Investigate the various [loss functions](https://www.tensorflow.org/api_docs/python/tf/keras/losses). Which is best suited for the task at hand (predicting 1 / 0) and why? \n",
        "2. What is the difference between a loss function and a metric? Why might we need both in Keras? \n",
        "3. Investigate the various [optimizers](https://www.tensorflow.org/api_docs/python/tf/keras/optimizers). Stochastic Gradient Descent (`sgd`) is not the learning algorithm dejour anyone. Why is that? What do newer optimizers such as `adam` have to offer? "
      ]
    },
    {
      "cell_type": "markdown",
      "metadata": {
        "id": "Gzs4fd-RynDd",
        "colab_type": "text"
      },
      "source": [
        "## Stretch Goals: \n",
        "\n",
        "- Research convolutional neural networks and try including convolution layers in your network.\n",
        "- Pick two classes and make QuickDraw a binary classification problem, how does your model architecture change?\n",
        "- Implement Cross Validation model evaluation on your Quickdraw implementation \n",
        "\n",
        "Watch some more videos on Gradient Descent:\n",
        "- [Gradient Descent, Step-by-Step](https://www.youtube.com/watch?v=sDv4f4s2SB8)  by StatQuest w/ Josh Starmer. This will help you understand the gradient descent based optimization that happens underneath the hood of neural networks. It uses a non-neural network example, which I believe is a gentler introduction. You will hear me refer to this technique as \"vanilla\" gradient descent. \n",
        "- [Stochastic Gradient Descent, Clearly Explained!!!](https://www.youtube.com/watch?v=vMh0zPT0tLI) by StatQuest w/ Josh Starmer. This builds on the techniques in the previous video.  This technique is the one that is actually implemented inside modern 'nets. \n",
        "- [Siraj Raval the evolution of gradient descent](https://www.youtube.com/watch?v=nhqo0u1a6fw)"
      ]
    }
  ]
}